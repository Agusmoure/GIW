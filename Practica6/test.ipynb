{
 "cells": [
  {
   "cell_type": "code",
   "execution_count": 39,
   "metadata": {},
   "outputs": [
    {
     "name": "stdout",
     "output_type": "stream",
     "text": [
      "422\n",
      "422\n",
      "201\n",
      "1\n"
     ]
    }
   ],
   "source": [
    "import requests\n",
    "from pprint import pprint,pp\n",
    "def pprint_response(r):\n",
    "    print(r.status_code)\n",
    "    pp(dict(r.headers))\n",
    "    print()\n",
    "    pp(r.json())\n",
    "    print(len(r.json()))\n",
    "API_KEY=\"e967b89f3f884bccea030b81afba466eb4008a031255dfd9b3aa2d9aa0d03739\"\n",
    "u1 = {'name': 'Eva', 'email': 'eva@gmail.com', 'gender': 'female', 'status': 'inactive'}\n",
    "u2 = {'name': 'Ana', 'email': 'ana2@gmail.com', 'gender': 'female', 'status': 'active'}\n",
    "u3 = {'name': 'Pepe2', 'email': 'barbara2@gmail.com', 'gender': 'female', 'status': 'inactive'}\n",
    "URL=\"https://gorest.co.in/\"\n",
    "def inserta_usuarios(datos, token):\n",
    "    \"\"\" Inserta todos los usuarios de la lista y devuelve True si todos han sido insertados correctamente \"\"\"\n",
    "    url=URL+\"/public/v2/users\"\n",
    "    contador=0\n",
    "    for user in datos:\n",
    "        response=requests.post(url,headers={'Authorization':f'Bearer {token}'},\n",
    "                            data=user)\n",
    "        print(response.status_code)\n",
    "        if response.status_code==201:\n",
    "            contador+=1\n",
    "    return contador\n",
    "    \n",
    "print(inserta_usuarios([u1,u2,u3],API_KEY))"
   ]
  },
  {
   "cell_type": "code",
   "execution_count": 104,
   "metadata": {},
   "outputs": [],
   "source": [
    "def get_ident_email(email, token):\n",
    "    \"\"\" Devuelve el identificador del usuario cuyo email sea *exactamente* el pasado como parámetro.\n",
    "        En caso de que ese usuario no exista devuelve None \"\"\"\n",
    "    url=URL+\"/public/v2/users\"\n",
    "    response=requests.get(url,headers={'Authorization':f'Bearer {token}'})\n",
    "    users=response.json()\n",
    "    for user in users:\n",
    "        if user[\"email\"]==email:\n",
    "            return user[\"id\"]\n",
    "    return None\n",
    "\n",
    "#print(get_ident_email(\"eva@gmail.com\",API_KEY))\n",
    "#print(get_ident_email(\"barbara2@gmail.com\",API_KEY))"
   ]
  },
  {
   "cell_type": "code",
   "execution_count": 42,
   "metadata": {},
   "outputs": [
    {
     "name": "stdout",
     "output_type": "stream",
     "text": [
      "[{'id': 7493365, 'name': 'Pepe2', 'email': 'barbara2@gmail.com', 'gender': 'female', 'status': 'inactive'}, {'id': 7493341, 'name': 'Pepe', 'email': 'barbara@gmail.com', 'gender': 'female', 'status': 'inactive'}, {'id': 7493306, 'name': 'Pepe', 'email': 'pe1qw2pe@gmail.com', 'gender': 'female', 'status': 'inactive'}, {'id': 7493305, 'name': 'Ana', 'email': 'a1nqw2a@gmail.com', 'gender': 'female', 'status': 'active'}, {'id': 7493304, 'name': 'Eva', 'email': 'evq1w2a@gmail.com', 'gender': 'female', 'status': 'inactive'}, {'id': 7491965, 'name': 'Darshwana Sinha', 'email': 'darshwana_sinha@johnson.test', 'gender': 'female', 'status': 'inactive'}, {'id': 7491964, 'name': 'Charvi Talwar', 'email': 'talwar_charvi@leffler-russel.test', 'gender': 'female', 'status': 'active'}, {'id': 7491963, 'name': 'Daevi Tandon', 'email': 'daevi_tandon@hilpert.test', 'gender': 'female', 'status': 'inactive'}, {'id': 7491961, 'name': 'Tanushri Shah', 'email': 'shah_tanushri@rutherford.test', 'gender': 'female', 'status': 'active'}, {'id': 7491960, 'name': 'Dipali Trivedi DDS', 'email': 'trivedi_dipali_dds@gottlieb-rolfson.example', 'gender': 'male', 'status': 'inactive'}]\n",
      "False\n"
     ]
    }
   ],
   "source": [
    "def borra_usuario(email, token):\n",
    "    \"\"\" Elimina el usuario cuyo email sea *exactamente* el pasado como parámetro. En caso de éxito en el\n",
    "        borrado devuelve True. Si no existe tal usuario devolverá False \"\"\"\n",
    "    id=get_ident_email(email,token)\n",
    "    if(id is None):\n",
    "        return False\n",
    "    url=f'{URL}/public/v2/users/{id}'\n",
    "    response=requests.delete(url,headers={'Authorization':f'Bearer {token}'})\n",
    "    return response.status_code==204\n",
    "url=URL+\"/public/v2/users\"\n",
    "response=requests.get(url,headers={'Authorization':f'Bearer {API_KEY}'})\n",
    "print(response.json())\n",
    "print(borra_usuario(\"eva@gmail.com\",API_KEY))"
   ]
  },
  {
   "cell_type": "code",
   "execution_count": 32,
   "metadata": {},
   "outputs": [
    {
     "data": {
      "text/plain": [
       "False"
      ]
     },
     "execution_count": 32,
     "metadata": {},
     "output_type": "execute_result"
    }
   ],
   "source": [
    "#suponiendo que no se pueden añadir dos tareas con el mismo nombre\n",
    "def inserta_todo(email, token, title, due_on, status='pending'):\n",
    "    \"\"\" Inserta un nuevo ToDo para el usuario con email exactamente igual al pasado. Si el ToDo ha sido insertado\n",
    "        con éxito devolverá True, en otro caso devolverá False \"\"\"\n",
    "    id=get_ident_email(email,token)\n",
    "    if(id is None):\n",
    "        return False\n",
    "    url=f'{URL}/public/v2/users/{id}'\n",
    "    response=requests.get(url,headers={'Authorization':f'Bearer {token}'})\n",
    "    user=response.json()\n",
    "    lista_tareas= user.get(\"tareas\",[])\n",
    "    print (lista_tareas)\n",
    "    lista_tareas.append({\"due_on\":due_on,\"status\":status,\"title\":title})\n",
    "    print (lista_tareas)\n",
    "    response2=requests.patch(url,headers={'Authorization':f'Bearer {token}'},\n",
    "                            data={\"tareas\":lista_tareas})\n",
    "    pprint_response(response2)\n",
    "    r=requests.get(url,headers={'Authorization':f'Bearer {token}'})\n",
    "    print(r.json())\n",
    "inserta_todo(\"ana2@gmail.com\",API_KEY,\"Todo 2\",\"2034-07-28 11:3\",'pending')"
   ]
  },
  {
   "cell_type": "code",
   "execution_count": 91,
   "metadata": {},
   "outputs": [],
   "source": [
    "def inserta_todo(email, token, title, due_on, status):\n",
    "\n",
    "    user_id = get_ident_email(email, token)\n",
    "\n",
    "    if user_id is None:\n",
    "        return False\n",
    "\n",
    "    response = requests.post(f'https://gorest.co.in/public/v2/users/{user_id}/todos',\n",
    "                            headers={'Authorization': f'Bearer {token}'},\n",
    "                            data = {'due_on': due_on,\n",
    "                                    'title': title,\n",
    "                                    'status': status}\n",
    "                            )\n",
    "    \n",
    "    if response.status_code == 201:\n",
    "        return True\n",
    "    else:\n",
    "        return False\n"
   ]
  },
  {
   "cell_type": "code",
   "execution_count": 69,
   "metadata": {},
   "outputs": [],
   "source": [
    "with open('token_gorest.txt', 'r', encoding='utf8') as f:\n",
    "    TOKEN_GOREST = f.read().strip()\n",
    "    # print(TOKEN_GOREST)"
   ]
  },
  {
   "cell_type": "code",
   "execution_count": 125,
   "metadata": {},
   "outputs": [
    {
     "name": "stdout",
     "output_type": "stream",
     "text": [
      "False\n",
      "True\n"
     ]
    }
   ],
   "source": [
    "API_KEY = TOKEN_GOREST\n",
    "\n",
    "print(inserta_todo('eva@gmail.com', API_KEY, 'Todo 1', '2034-07-28 11:30', 'pending'))\n",
    "print(inserta_todo('barbara@gmail.com', API_KEY, 'ASDFSDF 1', '2034-07-28 11:30', 'pending'))\n"
   ]
  },
  {
   "cell_type": "code",
   "execution_count": 120,
   "metadata": {},
   "outputs": [],
   "source": [
    "import requests\n",
    "\n",
    "def lista_todos(email, token):\n",
    "\n",
    "    user_id = get_ident_email(email, token)\n",
    "\n",
    "    if user_id is None:\n",
    "        return []\n",
    "\n",
    "    response = requests.get(f'https://gorest.co.in/public/v2/users/{user_id}/todos',\n",
    "                            headers={'Authorization': f'Bearer {token}'})\n",
    "    \n",
    "    if response.status_code == 200:\n",
    "        return response.json()\n",
    "    else:\n",
    "        return []\n"
   ]
  },
  {
   "cell_type": "code",
   "execution_count": 126,
   "metadata": {},
   "outputs": [
    {
     "data": {
      "text/plain": [
       "[{'id': 64847,\n",
       "  'user_id': 7493341,\n",
       "  'title': 'ASDFSDF 1',\n",
       "  'due_on': '2034-07-28T11:30:00.000+05:30',\n",
       "  'status': 'pending'},\n",
       " {'id': 64846,\n",
       "  'user_id': 7493341,\n",
       "  'title': 'ASDFSDF 1',\n",
       "  'due_on': '2034-07-28T11:30:00.000+05:30',\n",
       "  'status': 'completed'},\n",
       " {'id': 64845,\n",
       "  'user_id': 7493341,\n",
       "  'title': 'ASDFSDF 1',\n",
       "  'due_on': '2034-07-28T11:30:00.000+05:30',\n",
       "  'status': 'completed'},\n",
       " {'id': 64844,\n",
       "  'user_id': 7493341,\n",
       "  'title': 'ASDFSDF 1',\n",
       "  'due_on': '2034-07-28T11:30:00.000+05:30',\n",
       "  'status': 'completed'},\n",
       " {'id': 64843,\n",
       "  'user_id': 7493341,\n",
       "  'title': 'ASDFSDF 1',\n",
       "  'due_on': '2034-07-28T11:30:00.000+05:30',\n",
       "  'status': 'completed'},\n",
       " {'id': 64842,\n",
       "  'user_id': 7493341,\n",
       "  'title': 'Todo 1',\n",
       "  'due_on': '2034-07-28T11:30:00.000+05:30',\n",
       "  'status': 'completed'},\n",
       " {'id': 64834,\n",
       "  'user_id': 7493341,\n",
       "  'title': 'Todo 1',\n",
       "  'due_on': '2034-07-28T11:30:00.000+05:30',\n",
       "  'status': 'completed'},\n",
       " {'id': 64833,\n",
       "  'user_id': 7493341,\n",
       "  'title': 'Todo 1',\n",
       "  'due_on': '2034-07-28T11:30:00.000+05:30',\n",
       "  'status': 'completed'},\n",
       " {'id': 64832,\n",
       "  'user_id': 7493341,\n",
       "  'title': 'Todo 1',\n",
       "  'due_on': '2034-07-28T11:30:00.000+05:30',\n",
       "  'status': 'completed'},\n",
       " {'id': 64831,\n",
       "  'user_id': 7493341,\n",
       "  'title': 'Todo 1',\n",
       "  'due_on': '2034-07-28T11:30:00.000+05:30',\n",
       "  'status': 'completed'}]"
      ]
     },
     "execution_count": 126,
     "metadata": {},
     "output_type": "execute_result"
    }
   ],
   "source": [
    "lista_todos('barbara@gmail.com', API_KEY)"
   ]
  },
  {
   "cell_type": "code",
   "execution_count": 144,
   "metadata": {},
   "outputs": [],
   "source": [
    "from datetime import datetime\n",
    "\n",
    "def lista_todos_no_cumplidos(email, token):\n",
    "\n",
    "    user_id = get_ident_email(email, token)\n",
    "\n",
    "    if user_id is None:\n",
    "        return []\n",
    "    \n",
    "    todos = lista_todos(email, token)\n",
    "    \n",
    "    ahora = datetime.now().replace(second=0, microsecond=0)\n",
    "    \n",
    "    tareas_no_cumplidas = []\n",
    "    for tarea in todos:\n",
    "        if tarea['status'] == 'pending':\n",
    "\n",
    "            fecha_due = datetime.strptime(tarea['due_on'][:16], '%Y-%m-%dT%H:%M')\n",
    "            \n",
    "            if fecha_due > ahora:\n",
    "                tareas_no_cumplidas.append(tarea)\n",
    "    \n",
    "    return tareas_no_cumplidas\n"
   ]
  },
  {
   "cell_type": "code",
   "execution_count": 146,
   "metadata": {},
   "outputs": [
    {
     "name": "stdout",
     "output_type": "stream",
     "text": [
      "[{'id': 64847, 'user_id': 7493341, 'title': 'ASDFSDF 1', 'due_on': '2034-07-28T11:30:00.000+05:30', 'status': 'pending'}, {'id': 64846, 'user_id': 7493341, 'title': 'ASDFSDF 1', 'due_on': '2034-07-28T11:30:00.000+05:30', 'status': 'completed'}, {'id': 64845, 'user_id': 7493341, 'title': 'ASDFSDF 1', 'due_on': '2034-07-28T11:30:00.000+05:30', 'status': 'completed'}, {'id': 64844, 'user_id': 7493341, 'title': 'ASDFSDF 1', 'due_on': '2034-07-28T11:30:00.000+05:30', 'status': 'completed'}, {'id': 64843, 'user_id': 7493341, 'title': 'ASDFSDF 1', 'due_on': '2034-07-28T11:30:00.000+05:30', 'status': 'completed'}, {'id': 64842, 'user_id': 7493341, 'title': 'Todo 1', 'due_on': '2034-07-28T11:30:00.000+05:30', 'status': 'completed'}, {'id': 64834, 'user_id': 7493341, 'title': 'Todo 1', 'due_on': '2034-07-28T11:30:00.000+05:30', 'status': 'completed'}, {'id': 64833, 'user_id': 7493341, 'title': 'Todo 1', 'due_on': '2034-07-28T11:30:00.000+05:30', 'status': 'completed'}, {'id': 64832, 'user_id': 7493341, 'title': 'Todo 1', 'due_on': '2034-07-28T11:30:00.000+05:30', 'status': 'completed'}, {'id': 64831, 'user_id': 7493341, 'title': 'Todo 1', 'due_on': '2034-07-28T11:30:00.000+05:30', 'status': 'completed'}]\n",
      "2024-10-27 00:43:00\n",
      "2034-07-28T11:30:00.000+05:30\n",
      "2034-07-28 11:30:00\n",
      "[{'id': 64847, 'user_id': 7493341, 'title': 'ASDFSDF 1', 'due_on': '2034-07-28T11:30:00.000+05:30', 'status': 'pending'}]\n"
     ]
    }
   ],
   "source": [
    "tareas_pendientes = lista_todos_no_cumplidos('barbara@gmail.com', API_KEY)\n",
    "print(tareas_pendientes)\n"
   ]
  }
 ],
 "metadata": {
  "kernelspec": {
   "display_name": "base",
   "language": "python",
   "name": "python3"
  },
  "language_info": {
   "codemirror_mode": {
    "name": "ipython",
    "version": 3
   },
   "file_extension": ".py",
   "mimetype": "text/x-python",
   "name": "python",
   "nbconvert_exporter": "python",
   "pygments_lexer": "ipython3",
   "version": "3.12.4"
  }
 },
 "nbformat": 4,
 "nbformat_minor": 2
}
