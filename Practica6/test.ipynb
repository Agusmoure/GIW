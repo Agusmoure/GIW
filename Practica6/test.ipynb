{
 "cells": [
  {
   "cell_type": "code",
   "execution_count": 50,
   "metadata": {},
   "outputs": [
    {
     "name": "stdout",
     "output_type": "stream",
     "text": [
      "422\n",
      "201\n",
      "422\n",
      "1\n"
     ]
    }
   ],
   "source": [
    "import requests\n",
    "from pprint import pprint,pp\n",
    "def pprint_response(r):\n",
    "    print(r.status_code)\n",
    "    pp(dict(r.headers))\n",
    "    print()\n",
    "    pp(r.json())\n",
    "    print(len(r.json()))\n",
    "API_KEY=\"e967b89f3f884bccea030b81afba466eb4008a031255dfd9b3aa2d9aa0d03739\"\n",
    "u1 = {'name': 'Eva', 'email': 'eva@gmail.com', 'gender': 'female', 'status': 'inactive'}\n",
    "u2 = {'name': 'Ana', 'email': 'ana2@gmail.com', 'gender': 'female', 'status': 'active'}\n",
    "u3 = {'name': 'Pepe', 'email': 'pepe@gmail.com', 'gender': 'female', 'status': 'inactive'}\n",
    "URL=\"https://gorest.co.in/\"\n",
    "def inserta_usuarios(datos, token):\n",
    "    \"\"\" Inserta todos los usuarios de la lista y devuelve True si todos han sido insertados correctamente \"\"\"\n",
    "    url=URL+\"/public/v2/users\"\n",
    "    contador=0\n",
    "    for user in datos:\n",
    "        response=requests.post(url,headers={'Authorization':f'Bearer {token}'},\n",
    "                            data=user)\n",
    "        print(response.status_code)\n",
    "        if response.status_code==201:\n",
    "            contador+=1\n",
    "    return contador\n",
    "    \n",
    "print(inserta_usuarios([u1,u2,u3],API_KEY))"
   ]
  },
  {
   "cell_type": "code",
   "execution_count": null,
   "metadata": {},
   "outputs": [],
   "source": [
    "def get_ident_email(email, token):\n",
    "    \"\"\" Devuelve el identificador del usuario cuyo email sea *exactamente* el pasado como parámetro.\n",
    "        En caso de que ese usuario no exista devuelve None \"\"\"\n",
    "    url=URL+\"/public/v2/users\"\n",
    "    response=requests.get(url,headers={'Authorization':f'Bearer {token}'})\n",
    "    users=response.json()\n",
    "    for user in users:\n",
    "        if user[\"email\"]==email:\n",
    "            return user[\"id\"]\n",
    "    return None\n",
    "\n",
    "print(get_ident_email(\"ana2@gmail.com\",API_KEY))\n",
    "print(get_ident_email(\"Buenos_dias@gmail.com\",API_KEY))"
   ]
  },
  {
   "cell_type": "code",
   "execution_count": 48,
   "metadata": {},
   "outputs": [
    {
     "name": "stdout",
     "output_type": "stream",
     "text": [
      "[{'id': 7491601, 'name': 'Ana', 'email': 'ana2@gmail.com', 'gender': 'female', 'status': 'active'}, {'id': 7482875, 'name': 'Bharat Talwar IV', 'email': 'talwar_iv_bharat@collins.example', 'gender': 'female', 'status': 'inactive'}, {'id': 7482874, 'name': 'Prof. Amrit Kakkar', 'email': 'amrit_prof_kakkar@powlowski.test', 'gender': 'male', 'status': 'active'}, {'id': 7482872, 'name': 'Gov. Daksha Tagore', 'email': 'tagore_daksha_gov@moen.test', 'gender': 'male', 'status': 'inactive'}, {'id': 7482871, 'name': 'Gautama Trivedi', 'email': 'gautama_trivedi@herman.test', 'gender': 'male', 'status': 'active'}, {'id': 7482869, 'name': 'Dhanalakshmi Johar', 'email': 'johar_dhanalakshmi@thiel.example', 'gender': 'male', 'status': 'inactive'}, {'id': 7482868, 'name': 'Rev. Ajeet Naik', 'email': 'naik_rev_ajeet@okeefe.test', 'gender': 'female', 'status': 'active'}, {'id': 7482867, 'name': 'Dr. Veda Mahajan', 'email': 'veda_dr_mahajan@mante-beier.example', 'gender': 'male', 'status': 'active'}, {'id': 7482865, 'name': 'Ms. Arun Shah', 'email': 'ms_shah_arun@mosciski-stamm.example', 'gender': 'male', 'status': 'inactive'}, {'id': 7482864, 'name': 'Ananda Pothuvaal', 'email': 'ananda_pothuvaal@fisher.test', 'gender': 'male', 'status': 'inactive'}]\n",
      "True\n"
     ]
    }
   ],
   "source": [
    "def borra_usuario(email, token):\n",
    "    \"\"\" Elimina el usuario cuyo email sea *exactamente* el pasado como parámetro. En caso de éxito en el\n",
    "        borrado devuelve True. Si no existe tal usuario devolverá False \"\"\"\n",
    "    id=get_ident_email(email,token)\n",
    "    if(id is None):\n",
    "        return False\n",
    "    url=f'{URL}/public/v2/users/{id}'\n",
    "    response=requests.delete(url,headers={'Authorization':f'Bearer {token}'})\n",
    "    return response.status_code==204\n",
    "url=URL+\"/public/v2/users\"\n",
    "response=requests.get(url,headers={'Authorization':f'Bearer {API_KEY}'})\n",
    "print(response.json())\n",
    "print(borra_usuario(\"ana2@gmail.com\",API_KEY))"
   ]
  },
  {
   "cell_type": "code",
   "execution_count": 55,
   "metadata": {},
   "outputs": [
    {
     "name": "stdout",
     "output_type": "stream",
     "text": [
      "[]\n",
      "[{'due_on': '2034-07-28 11:3', 'status': 'pending', 'title': 'Todo 2'}]\n",
      "200\n",
      "{'Date': 'Fri, 25 Oct 2024 21:07:55 GMT',\n",
      " 'Content-Type': 'application/json; charset=utf-8',\n",
      " 'Transfer-Encoding': 'chunked',\n",
      " 'Connection': 'keep-alive',\n",
      " 'Cache-Control': 'max-age=0, private, must-revalidate',\n",
      " 'etag': 'W/\"6fc544103f0ff2c0aed18eb1702959a4\"',\n",
      " 'referrer-policy': 'strict-origin-when-cross-origin',\n",
      " 'vary': 'Origin',\n",
      " 'x-content-type-options': 'nosniff',\n",
      " 'x-download-options': 'noopen',\n",
      " 'x-frame-options': 'SAMEORIGIN',\n",
      " 'x-permitted-cross-domain-policies': 'none',\n",
      " 'x-ratelimit-limit': '90',\n",
      " 'x-ratelimit-remaining': '88',\n",
      " 'x-ratelimit-reset': '2',\n",
      " 'x-request-id': '8cb539b4-f1fc-40cd-bf27-dc267c36e34f',\n",
      " 'x-runtime': '0.071812',\n",
      " 'x-xss-protection': '0',\n",
      " 'cf-cache-status': 'DYNAMIC',\n",
      " 'Report-To': '{\"endpoints\":[{\"url\":\"https:\\\\/\\\\/a.nel.cloudflare.com\\\\/report\\\\/v4?s=vHTq4k8aKi2WR7yuhQTxBtzbWujn%2FMHYP%2FH9%2BmT8M9Tz36iilJNUpLl%2FXTe0S0cUltYalmGzqM5Js8Xyns%2Fw3iGqEIEf%2F38cea2%2B3iDGtwS0%2BKrEiasPDFBwzahbRVI%3D\"}],\"group\":\"cf-nel\",\"max_age\":604800}',\n",
      " 'NEL': '{\"success_fraction\":0,\"report_to\":\"cf-nel\",\"max_age\":604800}',\n",
      " 'Server': 'cloudflare',\n",
      " 'CF-RAY': '8d852dcd79f3e073-MAD',\n",
      " 'Content-Encoding': 'br',\n",
      " 'alt-svc': 'h3=\":443\"; ma=86400',\n",
      " 'server-timing': 'cfL4;desc=\"?proto=TCP&rtt=3789&sent=5&recv=7&lost=0&retrans=0&sent_bytes=2613&recv_bytes=1011&delivery_rate=936774&cwnd=222&unsent_bytes=0&cid=825fcff0864102c6&ts=429&x=0\"'}\n",
      "\n",
      "{'id': 7491615,\n",
      " 'name': 'Ana',\n",
      " 'email': 'ana2@gmail.com',\n",
      " 'gender': 'female',\n",
      " 'status': 'active'}\n",
      "5\n"
     ]
    }
   ],
   "source": [
    "#suponiendo que no se pueden añadir dos tareas con el mismo nombre\n",
    "def inserta_todo(email, token, title, due_on, status='pending'):\n",
    "    \"\"\" Inserta un nuevo ToDo para el usuario con email exactamente igual al pasado. Si el ToDo ha sido insertado\n",
    "        con éxito devolverá True, en otro caso devolverá False \"\"\"\n",
    "    id=get_ident_email(email,token)\n",
    "    if(id is None):\n",
    "        return False\n",
    "    url=f'{URL}/public/v2/users/{id}'\n",
    "    response=requests.get(url,headers={'Authorization':f'Bearer {token}'})\n",
    "    user=response.json()\n",
    "    lista_tareas= user.get(\"tareas\",[])\n",
    "    print (lista_tareas)\n",
    "    lista_tareas.append({\"due_on\":due_on,\"status\":status,\"title\":title})\n",
    "    print (lista_tareas)\n",
    "    response2=requests.patch(url,headers={'Authorization':f'Bearer {token}'},\n",
    "                            data={\"tareas\":lista_tareas})\n",
    "    pprint_response(response2)\n",
    "    r=requests.get(url,headers={'Authorization':f'Bearer {token}'})\n",
    "    print(r.json())\n",
    "inserta_todo(\"ana2@gmail.com\",API_KEY,\"Todo 2\",\"2034-07-28 11:3\",'pending')"
   ]
  }
 ],
 "metadata": {
  "kernelspec": {
   "display_name": "base",
   "language": "python",
   "name": "python3"
  },
  "language_info": {
   "codemirror_mode": {
    "name": "ipython",
    "version": 3
   },
   "file_extension": ".py",
   "mimetype": "text/x-python",
   "name": "python",
   "nbconvert_exporter": "python",
   "pygments_lexer": "ipython3",
   "version": "3.11.5"
  }
 },
 "nbformat": 4,
 "nbformat_minor": 2
}
