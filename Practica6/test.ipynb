{
 "cells": [
  {
   "cell_type": "code",
   "execution_count": 4,
   "metadata": {},
   "outputs": [],
   "source": [
    "import requests\n",
    "\n",
    "def inserta_usuarios(datos, api_token):\n",
    "\n",
    "    usuarios_insertados = 0\n",
    "    \n",
    "    for usuario in datos:\n",
    "        response = requests.post(\"https://gorest.co.in/public/v2/users\",\n",
    "                                headers={'Authorization': f'Bearer {api_token}'},\n",
    "                                data=usuario)\n",
    "    \n",
    "        if response.status_code == 201:\n",
    "            usuarios_insertados += 1\n",
    "\n",
    "    return usuarios_insertados\n",
    "\n",
    "\n",
    "\n"
   ]
  },
  {
   "cell_type": "code",
   "execution_count": 5,
   "metadata": {},
   "outputs": [
    {
     "name": "stdout",
     "output_type": "stream",
     "text": [
      "0\n",
      "0\n"
     ]
    }
   ],
   "source": [
    "with open('token_gorest.txt', 'r', encoding='utf8') as f:\n",
    "    TOKEN_GOREST = f.read().strip()\n",
    "    # print(TOKEN_GOREST)\n",
    "\n",
    "u1 = {'name': 'Eva', 'email': 'eva@gmail.com', 'gender': 'female', 'status': 'inactive'}\n",
    "u2 = {'name': 'Ana', 'email': 'ana@gmail.com', 'gender': 'female', 'status': 'active'}\n",
    "u3 = {'name': 'Pepe', 'email': 'pepe@gmail.com', 'gender': 'female', 'status': 'inactive'}\n",
    "\n",
    "api_token = TOKEN_GOREST\n",
    "\n",
    "print(inserta_usuarios([u1, u2], api_token))\n",
    "\n",
    "print(inserta_usuarios([u3, u2], api_token))\n"
   ]
  }
 ],
 "metadata": {
  "kernelspec": {
   "display_name": "base",
   "language": "python",
   "name": "python3"
  },
  "language_info": {
   "codemirror_mode": {
    "name": "ipython",
    "version": 3
   },
   "file_extension": ".py",
   "mimetype": "text/x-python",
   "name": "python",
   "nbconvert_exporter": "python",
   "pygments_lexer": "ipython3",
   "version": "3.12.4"
  }
 },
 "nbformat": 4,
 "nbformat_minor": 2
}
