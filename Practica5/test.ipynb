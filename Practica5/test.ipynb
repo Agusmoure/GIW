{
 "cells": [
  {
   "cell_type": "code",
   "execution_count": null,
   "metadata": {},
   "outputs": [],
   "source": [
    "\n",
    "import requests \n",
    "from bs4 import BeautifulSoup\n",
    "from pprint import pp\n",
    "URL = 'https://books.toscrape.com/'\n",
    "def explora_categoria(url):\n",
    "    \"\"\" A partir de la URL de la página principal de una categoría, devuelve el nombre\n",
    "        de la categoría y el número de libros \"\"\"\n",
    "    category_request=requests.get(url)\n",
    "    category_request.encoding = category_request.apparent_encoding  # Corregimos el encoding\n",
    "    html = category_request.text\n",
    "    soup = BeautifulSoup(html, 'html.parser')\n",
    "    etiquets=soup.find_all(\"strong\")\n",
    "    return (etiquets[0].text,int(etiquets[1].text))\n",
    "\n",
    "def categorias():\n",
    "    \"\"\" Devuelve un conjunto de parejas (nombre, número libros) de todas las categorías \"\"\"\n",
    "    r = requests.get(URL)\n",
    "    r.encoding = r.apparent_encoding  # Corregimos el encoding\n",
    "    html = r.text\n",
    "    soup = BeautifulSoup(html, 'html.parser')\n",
    "    #https://www.crummy.com/software/BeautifulSoup/bs4/doc/#the-string-argument:~:text=soup.find_all(%22a%22%2C%20attrs%3D%7B%22class%22%3A%20%22sister%22%7D)\n",
    "    etiquetas = soup.find_all(\"div\",{'class':\"side_categories\"})\n",
    "    enlaces=etiquetas[0].find_all(\"a\")\n",
    "    # TODO\n",
    "    #de esta manera pilla todas las categorias pero quizas lo que hay que hacer es pillar\n",
    "    # el ul de dentro de la li todo esto inspeccionando elementos se ha obtenido si hay que hacerlo general ni puta idea\n",
    "    return {explora_categoria(URL+enlace.attrs[\"href\"])for enlace in enlaces[1:]}\n",
    "    \n",
    "\n",
    "\n",
    "con=categorias()\n",
    "for c in con:\n",
    "    print(c)\n"
   ]
  },
  {
   "cell_type": "code",
   "execution_count": null,
   "metadata": {},
   "outputs": [],
   "source": []
  }
 ],
 "metadata": {
  "kernelspec": {
   "display_name": "base",
   "language": "python",
   "name": "python3"
  },
  "language_info": {
   "codemirror_mode": {
    "name": "ipython",
    "version": 3
   },
   "file_extension": ".py",
   "mimetype": "text/x-python",
   "name": "python",
   "nbconvert_exporter": "python",
   "pygments_lexer": "ipython3",
   "version": "3.11.5"
  }
 },
 "nbformat": 4,
 "nbformat_minor": 2
}
