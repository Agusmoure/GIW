{
 "cells": [
  {
   "cell_type": "code",
   "execution_count": 50,
   "metadata": {},
   "outputs": [
    {
     "name": "stdout",
     "output_type": "stream",
     "text": [
      "(3, 4)\n",
      "(3, 3)\n"
     ]
    }
   ],
   "source": [
    "a=[[1, 0, 2, 5],[0, 3, 3,5],[1, 2, 2, 5]]\n",
    "b=[[1, 0, 1],[0, 3, 2],[1, 2, 2]]\n",
    "c=[[1, 2, 1],[0, 3, 2],[1, 2, 2]]\n",
    "d=[[1, 0, 1],[0, 3, 2],[1, 7, 2]]\n",
    "e=[]\n",
    "f=[[1, 0, 2, 5],[0, 3, 3],[1, 2, 2, 5]]\n",
    "\n",
    "\n",
    "def dimension(matriz):\n",
    "    #Comprobamos matriz vacía\n",
    "    if len(matriz)<=0:\n",
    "        return \"None\"\n",
    "    #Guardamos valor de columnas\n",
    "    col=len(matriz[0])\n",
    "    for fila in range(len(matriz)):\n",
    "        if len(matriz[fila])!=col :#Si hay columnas de distinto tamaño matriz mal formada\n",
    "            return \"None\"\n",
    "    #Si la matriz esta bien formada devolvemos la tupla correspondiente\n",
    "    dim=(len(matriz),col)\n",
    "    return dim\n",
    "\n",
    "print(dimension(a))\n",
    "print(dimension(b))"
   ]
  },
  {
   "cell_type": "code",
   "execution_count": 51,
   "metadata": {},
   "outputs": [
    {
     "name": "stdout",
     "output_type": "stream",
     "text": [
      "False\n",
      "True\n"
     ]
    }
   ],
   "source": [
    "def es_cuadrada(matriz):\n",
    "    if dimension(matriz)==\"None\":\n",
    "        return False\n",
    "    else:\n",
    "        return len(matriz)==len(matriz[0])\n",
    "    \n",
    "print(es_cuadrada(a))\n",
    "print(es_cuadrada(b))"
   ]
  },
  {
   "cell_type": "code",
   "execution_count": 52,
   "metadata": {},
   "outputs": [
    {
     "name": "stdout",
     "output_type": "stream",
     "text": [
      "False\n",
      "True\n",
      "False\n",
      "False\n"
     ]
    }
   ],
   "source": [
    "def es_simetrica(matriz):\n",
    "    if not es_cuadrada(matriz):\n",
    "        return False\n",
    "    #matriz[i][j]=matriz[j][i]\n",
    "    for fila in range(len(matriz)):\n",
    "        for col in range(fila):\n",
    "            if(matriz[fila][col]!=matriz[col][fila]):\n",
    "                return False\n",
    "    return True\n",
    "\n",
    "\n",
    "print(es_simetrica(a))\n",
    "print(es_simetrica(b))\n",
    "print(es_simetrica(c))\n",
    "print(es_simetrica(d))"
   ]
  },
  {
   "cell_type": "code",
   "execution_count": 53,
   "metadata": {},
   "outputs": [
    {
     "name": "stdout",
     "output_type": "stream",
     "text": [
      "None\n"
     ]
    }
   ],
   "source": [
    "def multiplica_escalar(matriz, k):\n",
    "    if dimension(matriz)==\"None\":#¿Si esta vacia?\n",
    "        return \"None\"\n",
    "    newMat=[]\n",
    "    i=0\n",
    "    for fila in matriz:\n",
    "        newMat.append([])\n",
    "        for n in fila:\n",
    "            newMat[i].append(n*k)\n",
    "        i=i+1\n",
    "    return newMat\n",
    "\n",
    "\n",
    "print(multiplica_escalar(f,2))"
   ]
  },
  {
   "cell_type": "code",
   "execution_count": 57,
   "metadata": {},
   "outputs": [
    {
     "name": "stdout",
     "output_type": "stream",
     "text": [
      "[[2, 0, 2], [0, 6, 4], [2, 4, 4]]\n",
      "[[2, 2, 2], [0, 6, 4], [2, 4, 4]]\n"
     ]
    }
   ],
   "source": [
    "def suma(matriz1, matriz2):\n",
    "    if dimension(matriz1)==\"None\" or dimension(matriz1)!=dimension(matriz2):\n",
    "        return \"None\"\n",
    "    newMat=[]\n",
    "    i=0\n",
    "    for fila in range(len(matriz1)):\n",
    "        newMat.append([])\n",
    "        for col in range(len(matriz1[fila])):\n",
    "            newMat[i].append(matriz1[fila][col]+matriz2[fila][col])\n",
    "        i=i+1\n",
    "    return newMat\n",
    "\n",
    "\n",
    "print(multiplica_escalar(b,2))\n",
    "print(suma(b,c))"
   ]
  }
 ],
 "metadata": {
  "language_info": {
   "name": "python"
  }
 },
 "nbformat": 4,
 "nbformat_minor": 2
}
