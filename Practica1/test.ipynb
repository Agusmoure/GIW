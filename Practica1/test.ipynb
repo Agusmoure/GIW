{
 "cells": [
  {
   "cell_type": "code",
   "execution_count": 2,
   "metadata": {},
   "outputs": [
    {
     "name": "stdout",
     "output_type": "stream",
     "text": [
      "(3, 4)\n",
      "(3, 3)\n",
      "(3, 4)\n",
      "(3, 3)\n"
     ]
    }
   ],
   "source": [
    "a=[[1, 0, 2, 5],[0, 3, 3,5],[1, 2, 2, 5]]\n",
    "b=[[1, 0, 1],[0, 3, 2],[1, 2, 2]]\n",
    "c=[[1, 2, 1],[0, 3, 2],[1, 2, 2]]\n",
    "d=[[1, 0, 1],[0, 3, 2],[1, 7, 2]]\n",
    "e=[]\n",
    "f=[[1, 0, 2, 5],[0, 3, 3],[1, 2, 2, 5]]\n",
    "\n",
    "\n",
    "def dimension(matriz):\n",
    "    #Comprobamos matriz vacía\n",
    "    if len(matriz)<=0:\n",
    "        return \"None\"\n",
    "    #Guardamos valor de columnas\n",
    "    col=len(matriz[0])\n",
    "    for fila in range(len(matriz)):\n",
    "        if len(matriz[fila])!=col :#Si hay columnas de distinto tamaño matriz mal formada\n",
    "            return \"None\"\n",
    "    #Si la matriz esta bien formada devolvemos la tupla correspondiente\n",
    "    dim=(len(matriz),col)\n",
    "    return dim\n",
    "\n",
    "def dimension2(matriz):\n",
    "    \"\"\"\n",
    "    Funcion que se encarga de obtener la dimension de una matriz\n",
    "    si la matriz no es valida devuelve \"None\"\n",
    "    en caso de que si sea valida devuelve sus dimensiones en forma de tupla\n",
    "    \n",
    "    \"\"\"\n",
    "\n",
    "    #Comprobamos matriz vacía\n",
    "    if len(matriz)<=0:\n",
    "        return \"None\"\n",
    "    #Guardamos valor de columnas\n",
    "    col=len(matriz[0])\n",
    "    for fila in matriz:\n",
    "        if len(fila)!=col :#Si hay columnas de distinto tamaño matriz mal formada\n",
    "            return \"None\"\n",
    "    #Si la matriz esta bien formada devolvemos la tupla correspondiente\n",
    "    dim=(len(matriz),col)\n",
    "    return dim\n",
    "\n",
    "print(dimension(a))\n",
    "print(dimension(b))\n",
    "print(dimension2(a))\n",
    "print(dimension2(b))"
   ]
  },
  {
   "cell_type": "code",
   "execution_count": 3,
   "metadata": {},
   "outputs": [
    {
     "name": "stdout",
     "output_type": "stream",
     "text": [
      "False\n",
      "True\n"
     ]
    }
   ],
   "source": [
    "def es_cuadrada(matriz):\n",
    "    if dimension(matriz)==\"None\":\n",
    "        return False\n",
    "    else:\n",
    "        return len(matriz)==len(matriz[0])\n",
    "    \n",
    "print(es_cuadrada(a))\n",
    "print(es_cuadrada(b))"
   ]
  },
  {
   "cell_type": "code",
   "execution_count": 4,
   "metadata": {},
   "outputs": [
    {
     "name": "stdout",
     "output_type": "stream",
     "text": [
      "False\n",
      "True\n",
      "False\n",
      "False\n",
      "False\n",
      "True\n",
      "False\n",
      "False\n"
     ]
    }
   ],
   "source": [
    "def es_simetrica(matriz):\n",
    "    if not es_cuadrada(matriz):\n",
    "        return False\n",
    "    #matriz[i][j]=matriz[j][i]\n",
    "    for fila in range(len(matriz)):\n",
    "        for col in range(fila):\n",
    "            if(matriz[fila][col]!=matriz[col][fila]):\n",
    "                return False\n",
    "    return True\n",
    "\n",
    "def es_simetrica2(matriz):\n",
    "    \"\"\"\n",
    "    Devuelve si la matriz es simetrica\n",
    "    \"\"\"\n",
    "    if not es_cuadrada(matriz): #Si una matriz no es cuadrada no puede ser simétrica\n",
    "        return False\n",
    "    #matriz[i][j]=matriz[j][i]\n",
    "    for indice,fila in enumerate(matriz):\n",
    "            #Recorremos el triángulo inferior a la diagonal principal\n",
    "            # ya que si hicieramos for col in range(len(matriz[0]))\n",
    "            #  estaríamos haciendo las comprobaciones dos veces\n",
    "        for col,elem in enumerate(fila):\n",
    "            if elem!=matriz[col][indice] :\n",
    "                return False\n",
    "    return True\n",
    "print(es_simetrica(a))\n",
    "print(es_simetrica(b))\n",
    "print(es_simetrica(c))\n",
    "print(es_simetrica(d))\n",
    "print(es_simetrica2(a))\n",
    "print(es_simetrica2(b))\n",
    "print(es_simetrica2(c))\n",
    "print(es_simetrica2(d))"
   ]
  },
  {
   "cell_type": "code",
   "execution_count": 5,
   "metadata": {},
   "outputs": [
    {
     "name": "stdout",
     "output_type": "stream",
     "text": [
      "None\n"
     ]
    }
   ],
   "source": [
    "def multiplica_escalar(matriz, k):\n",
    "    if dimension(matriz)==\"None\":#¿Si esta vacia?\n",
    "        return \"None\"\n",
    "    newMat=[]\n",
    "    i=0\n",
    "    for fila in matriz:\n",
    "        newMat.append([])\n",
    "        for n in fila:\n",
    "            newMat[i].append(n*k)\n",
    "        i=i+1\n",
    "    return newMat\n",
    "\n",
    "\n",
    "print(multiplica_escalar(f,2))"
   ]
  },
  {
   "cell_type": "code",
   "execution_count": 10,
   "metadata": {},
   "outputs": [
    {
     "name": "stdout",
     "output_type": "stream",
     "text": [
      "[[2, 0, 4, 10], [0, 6, 6, 10], [2, 4, 4, 10]]\n",
      "[[2, 0, 4, 10], [0, 6, 6, 10], [2, 4, 4, 10]]\n"
     ]
    }
   ],
   "source": [
    "def suma(matriz1, matriz2):\n",
    "    if dimension(matriz1)==\"None\" or dimension(matriz1)!=dimension(matriz2):\n",
    "        return \"None\"\n",
    "    newMat=[]\n",
    "    i=0\n",
    "    for fila in range(len(matriz1)):\n",
    "        newMat.append([])\n",
    "        for col in range(len(matriz1[fila])):\n",
    "            newMat[i].append(matriz1[fila][col]+matriz2[fila][col])\n",
    "        i=i+1\n",
    "    return newMat\n",
    "\n",
    "\n",
    "\n",
    "print(suma(a,a))\n",
    "\n",
    "def suma2(matriz1, matriz2):\n",
    "    \"\"\"\n",
    "    Genera una nueva matriz que se corresponde\n",
    "    a la suma de las dos dadas, si no es posible\n",
    "    devuelve None\n",
    "    \"\"\"\n",
    "    if dimension(matriz1)==\"None\" or dimension(matriz1)!=dimension(matriz2):\n",
    "        return \"None\"\n",
    "    new_mat=[]\n",
    "\n",
    "    for i,fila in enumerate(matriz1):\n",
    "        new_mat.append([])#Añadimos la fila vacía a la que se le van a añadir los valores\n",
    "        for col,elem in enumerate(fila):\n",
    "            new_mat[i].append(elem+matriz2[i][col])#Añadimos cada valor\n",
    "    return new_mat\n",
    "\n",
    "print(suma2(a,a))\n"
   ]
  },
  {
   "cell_type": "code",
   "execution_count": 7,
   "metadata": {},
   "outputs": [
    {
     "name": "stdout",
     "output_type": "stream",
     "text": [
      "True\n",
      "Nodo repetido en grafo[nodos]\n",
      "False\n",
      "Nodo origen no existe en los nodos proporcionados\n",
      "False\n",
      "Nodo destino no existe en los nodos proporcionados\n",
      "False\n"
     ]
    }
   ],
   "source": [
    "g = {\"nodos\": [\"a\", \"b\", \"c\", \"d\"],\n",
    "     \"aristas\": {\"a\": [\"a\", \"b\", \"c\"],\n",
    "                 \"b\": [\"a\", \"c\"],\n",
    "                 \"c\": [\"c\"],\n",
    "                 \"d\": [\"c\"]\n",
    "                 }\n",
    "     }\n",
    "nodosRepe = {\"nodos\": [\"a\", \"b\", \"c\", \"d\",\"a\"],\n",
    "     \"aristas\": {\"a\": [\"a\", \"b\", \"c\"],\n",
    "                 \"b\": [\"a\", \"c\"],\n",
    "                 \"c\": [\"c\"],\n",
    "                 \"d\": [\"c\"]\n",
    "                 }\n",
    "     }\n",
    "nodoOMal = {\"nodos\": [\"a\", \"b\", \"c\", \"d\"],\n",
    "     \"aristas\": {\"a\": [\"a\", \"b\", \"c\"],\n",
    "                 \"b\": [\"a\", \"c\"],\n",
    "                 \"c\": [\"c\"],\n",
    "                 \"d\": [\"c\"],\n",
    "                 \"e\":[]\n",
    "                 }\n",
    "     }\n",
    "nodoDMal = {\"nodos\": [\"a\", \"b\", \"c\", \"d\"],\n",
    "     \"aristas\": {\"a\": [\"a\", \"b\", \"c\"],\n",
    "                 \"b\": [\"a\", \"c\"],\n",
    "                 \"c\": [\"c\"],\n",
    "                 \"d\": [\"c\",\"e\"]\n",
    "                 }\n",
    "     }\n",
    "\n",
    "from collections import Counter\n",
    "def validar(grafo):\n",
    "    claves = grafo.keys()\n",
    "    if (len(claves) != 2 or \"nodos\" not in grafo or \"aristas\" not in grafo):\n",
    "        return False\n",
    "\n",
    "    if (len(grafo[\"nodos\"]) == 0):\n",
    "        return False\n",
    "    #Comprobar que en grafo[\"nodos\"] no haya mas de 1 vez el mismo nodo\n",
    "\n",
    "    elem, repeat=Counter(grafo[\"nodos\"]).most_common(1)[0]\n",
    "    if repeat>1:\n",
    "        print(\"Nodo repetido en grafo[nodos]\")\n",
    "        return False\n",
    "    #Todo nodo en grafo[\"nodos\"]debe estar en g[\"aristas\"]\n",
    "    for nodo in grafo[\"nodos\"]:\n",
    "        if(nodo not in grafo[\"aristas\"]):#Si un nodo no aparece como nodo origen\n",
    "            print(\"el nodo %s no aparece en grafo[aristas]\",nodo)\n",
    "            return False\n",
    "\n",
    "    for nodoO, nodosD in grafo[\"aristas\"].items():\n",
    "        if nodoO not in grafo[\"nodos\"]:#Si el nodo origen no es valido\n",
    "            print(\"Nodo origen no existe en los nodos proporcionados\")\n",
    "            return False\n",
    "        for nodoD in nodosD:\n",
    "            if nodoD not in grafo[\"nodos\"]:#Si algun nodo destino no es valido\n",
    "                print(\"Nodo destino no existe en los nodos proporcionados\")\n",
    "                return False\n",
    "    return True\n",
    "\n",
    "print(validar(g))\n",
    "print(validar(nodosRepe))\n",
    "print(validar(nodoOMal))\n",
    "print(validar(nodoDMal))\n",
    "\n"
   ]
  },
  {
   "cell_type": "code",
   "execution_count": 8,
   "metadata": {},
   "outputs": [
    {
     "name": "stdout",
     "output_type": "stream",
     "text": [
      "2\n",
      "0\n",
      "-1\n"
     ]
    }
   ],
   "source": [
    "def grado_entrada(grafo, nodo):\n",
    "    if(not validar(grafo)or nodo not in grafo[\"nodos\"]):\n",
    "        return -1\n",
    "    aux=0\n",
    "    for o,d in g[\"aristas\"].items():\n",
    "        if nodo in d:\n",
    "            aux=aux+1 \n",
    "    return aux\n",
    "\n",
    "print(grado_entrada(g,\"a\"))\n",
    "print(grado_entrada(g,\"d\"))\n",
    "print(grado_entrada(g,\"Z\"))"
   ]
  },
  {
   "cell_type": "code",
   "execution_count": 9,
   "metadata": {},
   "outputs": [
    {
     "name": "stdout",
     "output_type": "stream",
     "text": [
      "None\n"
     ]
    }
   ],
   "source": [
    "def distancia(grafo, nodo):\n",
    "    visit=[]\n",
    "    dist={}\n",
    "    pending=[]\n",
    "    pending.append(nodo)\n",
    "    dist[nodo]=0\n",
    "    visit.append(nodo)\n",
    "    if not validar(grafo) or nodo not in grafo[\"nodos\"]:\n",
    "        return \"None\"\n",
    "    while(len(pending)>0):\n",
    "        current=pending[0]\n",
    "        pending.pop()\n",
    "        for elem in grafo[\"aristas\"][current]:\n",
    "            if(elem not in visit):\n",
    "                pending.append(elem)\n",
    "                visit.append(elem)\n",
    "                dist[elem]=dist[current]+1\n",
    "    for nodo in grafo[\"nodos\"]:\n",
    "        if nodo not in dist:\n",
    "            dist[nodo]=-1\n",
    "    return dist\n",
    "print(distancia(g,\"Z\"))"
   ]
  }
 ],
 "metadata": {
  "kernelspec": {
   "display_name": "base",
   "language": "python",
   "name": "python3"
  },
  "language_info": {
   "codemirror_mode": {
    "name": "ipython",
    "version": 3
   },
   "file_extension": ".py",
   "mimetype": "text/x-python",
   "name": "python",
   "nbconvert_exporter": "python",
   "pygments_lexer": "ipython3",
   "version": "3.11.5"
  }
 },
 "nbformat": 4,
 "nbformat_minor": 2
}
