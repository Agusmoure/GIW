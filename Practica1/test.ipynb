{
 "cells": [
  {
   "cell_type": "code",
   "execution_count": 49,
   "metadata": {},
   "outputs": [
    {
     "name": "stdout",
     "output_type": "stream",
     "text": [
      "(3, 4)\n",
      "(3, 3)\n"
     ]
    }
   ],
   "source": [
    "a=[[1, 0, 2, 5],[0, 3, 3,5],[1, 2, 2, 5]]\n",
    "b=[[1, 0, 1],[0, 3, 2],[1, 2, 2]]\n",
    "c=[[1, 2, 1],[0, 3, 2],[1, 2, 2]]\n",
    "d=[[1, 0, 1],[0, 3, 2],[1, 7, 2]]\n",
    "e=[]\n",
    "f=[[1, 0, 2, 5],[0, 3, 3],[1, 2, 2, 5]]\n",
    "\n",
    "def dimension(matriz):\n",
    "    \"\"\"\n",
    "    Funcion que se encarga de obtener la dimension de una matriz\n",
    "    si la matriz no es valida devuelve \"None\"\n",
    "    en caso de que si sea valida devuelve sus dimensiones en forma de tupla\n",
    "    \n",
    "    \"\"\"\n",
    "\n",
    "    #Comprobamos matriz vacía\n",
    "    if len(matriz)<=0:\n",
    "        return \"None\"\n",
    "    #Guardamos valor de columnas\n",
    "    col=len(matriz[0])\n",
    "    for fila in matriz:\n",
    "        if len(fila)!=col :#Si hay columnas de distinto tamaño matriz mal formada\n",
    "            return \"None\"\n",
    "    #Si la matriz esta bien formada devolvemos la tupla correspondiente\n",
    "    dim=(len(matriz),col)\n",
    "    return dim\n",
    "\n",
    "print(dimension(a))\n",
    "print(dimension(b))"
   ]
  },
  {
   "cell_type": "code",
   "execution_count": 50,
   "metadata": {},
   "outputs": [
    {
     "name": "stdout",
     "output_type": "stream",
     "text": [
      "False\n",
      "True\n"
     ]
    }
   ],
   "source": [
    "def es_cuadrada(matriz):\n",
    "    if dimension(matriz)==\"None\":\n",
    "        return False\n",
    "    else:\n",
    "        return len(matriz)==len(matriz[0])\n",
    "    \n",
    "print(es_cuadrada(a))\n",
    "print(es_cuadrada(b))"
   ]
  },
  {
   "cell_type": "code",
   "execution_count": 51,
   "metadata": {},
   "outputs": [
    {
     "name": "stdout",
     "output_type": "stream",
     "text": [
      "False\n",
      "True\n",
      "False\n",
      "False\n"
     ]
    }
   ],
   "source": [
    "\n",
    "\n",
    "def es_simetrica(matriz):\n",
    "    \"\"\"\n",
    "    Devuelve si la matriz es simetrica\n",
    "    \"\"\"\n",
    "    if not es_cuadrada(matriz): #Si una matriz no es cuadrada no puede ser simétrica\n",
    "        return False\n",
    "    #matriz[i][j]=matriz[j][i]\n",
    "    for i in enumerate(matriz):\n",
    "            #Recorremos el triángulo inferior a la diagonal principal\n",
    "            # ya que si hicieramos for col in range(len(matriz[0]))\n",
    "            #  estaríamos haciendo las comprobaciones dos veces\n",
    "        for j in range(i[0]):\n",
    "            if matriz[i[0]][j]!=matriz[j][i[0]] :\n",
    "                return False\n",
    "    return True\n",
    "print(es_simetrica(a))\n",
    "print(es_simetrica(b))\n",
    "print(es_simetrica(c))\n",
    "print(es_simetrica(d))"
   ]
  },
  {
   "cell_type": "code",
   "execution_count": 52,
   "metadata": {},
   "outputs": [
    {
     "name": "stdout",
     "output_type": "stream",
     "text": [
      "[[2, 0, 4, 10], [0, 6, 6, 10], [2, 4, 4, 10]]\n"
     ]
    }
   ],
   "source": [
    "def multiplica_escalar(matriz, k):\n",
    "    \"\"\"\n",
    "    Genera una nueva matriz donde todos los elementos \n",
    "    de la matriz pasada por argumento son multiplicados por k\n",
    "    \"\"\"\n",
    "    #Si la matriz esta mal formada o esta vacía entonces no se puede multiplicar\n",
    "    if dimension(matriz)==\"None\":\n",
    "        return \"None\"\n",
    "    new_mat=[]\n",
    "\n",
    "    for i,fila in enumerate(matriz):\n",
    "        new_mat.append([])#Añadimos la fila vacía a la que se le van a añadir los valores\n",
    "        for elem in fila:\n",
    "            new_mat[i].append(elem*k) #Añadimos cada valor\n",
    "    return new_mat\n",
    "\n",
    "\n",
    "print(multiplica_escalar(a,2))"
   ]
  },
  {
   "cell_type": "code",
   "execution_count": 53,
   "metadata": {},
   "outputs": [
    {
     "name": "stdout",
     "output_type": "stream",
     "text": [
      "[[2, 0, 4, 10], [0, 6, 6, 10], [2, 4, 4, 10]]\n"
     ]
    }
   ],
   "source": [
    "\n",
    "\n",
    "def suma(matriz1, matriz2):\n",
    "    \"\"\"\n",
    "    Genera una nueva matriz que se corresponde\n",
    "    a la suma de las dos dadas, si no es posible\n",
    "    devuelve None\n",
    "    \"\"\"\n",
    "    if dimension(matriz1)==\"None\" or dimension(matriz1)!=dimension(matriz2):\n",
    "        return \"None\"\n",
    "    new_mat=[]\n",
    "\n",
    "    for i,fila in enumerate(matriz1):\n",
    "        new_mat.append([])#Añadimos la fila vacía a la que se le van a añadir los valores\n",
    "        for col,elem in enumerate(fila):\n",
    "            new_mat[i].append(elem+matriz2[i][col])#Añadimos cada valor\n",
    "    return new_mat\n",
    "\n",
    "print(suma(a,a))\n"
   ]
  },
  {
   "cell_type": "code",
   "execution_count": 54,
   "metadata": {},
   "outputs": [
    {
     "name": "stdout",
     "output_type": "stream",
     "text": [
      "True\n",
      "True\n",
      "False\n",
      "False\n",
      "False\n",
      "False\n"
     ]
    }
   ],
   "source": [
    "g = {\"nodos\": [\"a\", \"b\", \"c\", \"d\"],\n",
    "     \"aristas\": {\"a\": [\"a\", \"b\", \"c\"],\n",
    "                 \"b\": [\"a\", \"c\"],\n",
    "                 \"c\": [\"c\"],\n",
    "                 \"d\": [\"c\"]\n",
    "                 }\n",
    "     }\n",
    "g2 = {\"nodos\": [0, 1, 2, 3],\n",
    "     \"aristas\": {0: [0, 1, 2],\n",
    "                 1: [0, 2],\n",
    "                 2: [2],\n",
    "                 3: [2]\n",
    "                 }\n",
    "     }\n",
    "nodosRepe = {\"nodos\": [\"a\", \"b\", \"c\", \"d\",\"a\"],\n",
    "     \"aristas\": {\"a\": [\"a\", \"b\", \"c\"],\n",
    "                 \"b\": [\"a\", \"c\"],\n",
    "                 \"c\": [\"c\"],\n",
    "                 \"d\": [\"c\"]\n",
    "                 }\n",
    "     }\n",
    "nodoOMal = {\"nodos\": [\"a\", \"b\", \"c\", \"d\"],\n",
    "     \"aristas\": {\"a\": [\"a\", \"b\", \"c\"],\n",
    "                 \"b\": [\"a\", \"c\"],\n",
    "                 \"c\": [\"c\"],\n",
    "                 \"d\": [\"c\"],\n",
    "                 \"e\":[]\n",
    "                 }\n",
    "     }\n",
    "nodoDMal = {\"nodos\": [\"a\", \"b\", \"c\", \"d\"],\n",
    "     \"aristas\": {\"a\": [\"a\", \"b\", \"c\"],\n",
    "                 \"b\": [\"a\", \"c\"],\n",
    "                 \"c\": [\"c\"],\n",
    "                 \"d\": [\"c\",\"c\",\"b\"]\n",
    "                 }\n",
    "     }\n",
    "vacio={\"nodos\":[],\n",
    "       \"aristas\":[]\n",
    "       }\n",
    "from collections import Counter\n",
    "def validar_nodos(grafo):\n",
    "    \"\"\"\n",
    "    Comprueba que del grafo la clave \"nodos\" es correcta\n",
    "    \"\"\"\n",
    "\n",
    "    if len(grafo[\"nodos\"]) == 0:\n",
    "        return False\n",
    "    #Comprobar que en grafo[\"nodos\"] no haya mas de 1 vez el mismo nodo\n",
    "    #Si el valor más comun es 1 se sabe que todos los demas son 1\n",
    "    _, repeat=Counter(grafo[\"nodos\"]).most_common(1)[0]\n",
    "    if repeat>1:\n",
    "        return False\n",
    "    return True\n",
    "\n",
    "def validar_aristas(grafo):\n",
    "    \"\"\"\n",
    "    Comprueba que la clave \"aristas\" es correcta\n",
    "    \"\"\"\n",
    "    #Todos los nodo en grafo[\"nodos\"]debe estar en g[\"aristas\"]\n",
    "    for nodo in grafo[\"nodos\"]:\n",
    "        if nodo not in grafo[\"aristas\"]:#Si un nodo no aparece como nodo origen\n",
    "            return False\n",
    "\n",
    "    for nodo_o, nodos_d in grafo[\"aristas\"].items():\n",
    "        if nodo_o not in grafo[\"nodos\"]:#Si el nodo origen no es valido\n",
    "            return False\n",
    "        _, repeat=Counter(nodos_d).most_common(1)[0]\n",
    "        if repeat>1:\n",
    "            return False\n",
    "        for nodo_d in nodos_d:\n",
    "            if nodo_d not in grafo[\"nodos\"]:#Si algun nodo destino no es valido\n",
    "                return False\n",
    "    return True\n",
    "\n",
    "def validar(grafo):\n",
    "    \"\"\"\n",
    "    Validara un grafo siempre que se cumplan las condiciones\n",
    "    \"\"\"\n",
    "    claves = grafo.keys()\n",
    "    #Comprueba las claves\n",
    "    if len(claves) != 2 or \"nodos\" not in grafo or \"aristas\" not in grafo:\n",
    "        return False\n",
    "    #Comprueba que tanto nodos como aristas son validos\n",
    "    return validar_nodos(grafo) and validar_aristas(grafo)\n",
    "\n",
    "\n",
    "print(validar(g))\n",
    "print(validar(g2))\n",
    "print(validar(nodosRepe))\n",
    "print(validar(nodoOMal))\n",
    "print(validar(nodoDMal))\n",
    "print(validar(vacio))\n",
    "\n"
   ]
  },
  {
   "cell_type": "code",
   "execution_count": 58,
   "metadata": {},
   "outputs": [
    {
     "name": "stdout",
     "output_type": "stream",
     "text": [
      "2\n",
      "0\n",
      "4\n",
      "-1\n",
      "2\n",
      "0\n",
      "4\n",
      "-1\n"
     ]
    }
   ],
   "source": [
    "def grado_entrada(grafo, nodo):\n",
    "    \"\"\"\n",
    "    Determina el grado de entrada del nodo en el grafo\n",
    "    \"\"\"\n",
    "    #Si el grafo no es valido o el nodo no existe en el grafo\n",
    "    if not validar(grafo)or nodo not in grafo[\"nodos\"]:\n",
    "        return -1\n",
    "    grado=0\n",
    "    for _,destiny in grafo[\"aristas\"].items():\n",
    "        if nodo in destiny:\n",
    "            grado+=1\n",
    "    return grado\n",
    "\n",
    "print(grado_entrada(g,\"a\"))\n",
    "print(grado_entrada(g,\"d\"))\n",
    "print(grado_entrada(g,\"c\"))\n",
    "print(grado_entrada(g,\"Z\"))\n",
    "print(grado_entrada(g2,0))\n",
    "print(grado_entrada(g2,3))\n",
    "print(grado_entrada(g2,2))\n",
    "print(grado_entrada(g2,6))"
   ]
  },
  {
   "cell_type": "code",
   "execution_count": 57,
   "metadata": {},
   "outputs": [
    {
     "name": "stdout",
     "output_type": "stream",
     "text": [
      "{'a': 0, 'b': 1, 'c': 1, 'd': -1}\n",
      "{'b': 0, 'a': 1, 'c': 1, 'd': -1}\n",
      "{'c': 0, 'a': -1, 'b': -1, 'd': -1}\n",
      "{'d': 0, 'c': 1, 'a': -1, 'b': -1}\n",
      "None\n",
      "{0: 0, 1: 1, 2: 1, 3: -1}\n",
      "{1: 0, 0: 1, 2: 1, 3: -1}\n",
      "{2: 0, 0: -1, 1: -1, 3: -1}\n",
      "{3: 0, 2: 1, 0: -1, 1: -1}\n",
      "None\n",
      "None\n"
     ]
    }
   ],
   "source": [
    "def distancia(grafo, nodo):\n",
    "    visit=[]\n",
    "    dist={}\n",
    "    pending=[]\n",
    "    pending.append(nodo)\n",
    "    dist[nodo]=0\n",
    "    visit.append(nodo)\n",
    "    if not validar(grafo) or nodo not in grafo[\"nodos\"]:\n",
    "        return \"None\"\n",
    "    while(len(pending)>0):\n",
    "        current=pending[0]\n",
    "        pending.pop()\n",
    "        for elem in grafo[\"aristas\"][current]:\n",
    "            if(elem not in visit):\n",
    "                pending.append(elem)\n",
    "                visit.append(elem)\n",
    "                dist[elem]=dist[current]+1\n",
    "    for nodo in grafo[\"nodos\"]:\n",
    "        if nodo not in dist:\n",
    "            dist[nodo]=-1\n",
    "    return dist\n",
    "print(distancia(g,\"a\"))\n",
    "print(distancia(g,\"b\"))\n",
    "print(distancia(g,\"c\"))\n",
    "print(distancia(g,\"d\"))\n",
    "print(distancia(g,\"z\"))\n",
    "print(distancia(g2,0))\n",
    "print(distancia(g2,1))\n",
    "print(distancia(g2,2))\n",
    "print(distancia(g2,3))\n",
    "print(distancia(g2,6))\n",
    "print(distancia(vacio, 0))"
   ]
  }
 ],
 "metadata": {
  "kernelspec": {
   "display_name": "base",
   "language": "python",
   "name": "python3"
  },
  "language_info": {
   "codemirror_mode": {
    "name": "ipython",
    "version": 3
   },
   "file_extension": ".py",
   "mimetype": "text/x-python",
   "name": "python",
   "nbconvert_exporter": "python",
   "pygments_lexer": "ipython3",
   "version": "3.11.7"
  }
 },
 "nbformat": 4,
 "nbformat_minor": 2
}
