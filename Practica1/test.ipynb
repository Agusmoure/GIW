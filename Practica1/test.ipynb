{
 "cells": [
  {
   "cell_type": "code",
   "execution_count": 1,
   "metadata": {},
   "outputs": [
    {
     "name": "stdout",
     "output_type": "stream",
     "text": [
      "(3, 4)\n",
      "(3, 3)\n"
     ]
    }
   ],
   "source": [
    "a=[[1, 0, 2, 5],[0, 3, 3,5],[1, 2, 2, 5]]\n",
    "b=[[1, 0, 1],[0, 3, 2],[1, 2, 2]]\n",
    "c=[[1, 2, 1],[0, 3, 2],[1, 2, 2]]\n",
    "d=[[1, 0, 1],[0, 3, 2],[1, 7, 2]]\n",
    "e=[]\n",
    "f=[[1, 0, 2, 5],[0, 3, 3],[1, 2, 2, 5]]\n",
    "\n",
    "\n",
    "def dimension(matriz):\n",
    "    #Comprobamos matriz vacía\n",
    "    if len(matriz)<=0:\n",
    "        return \"None\"\n",
    "    #Guardamos valor de columnas\n",
    "    col=len(matriz[0])\n",
    "    for fila in range(len(matriz)):\n",
    "        if len(matriz[fila])!=col :#Si hay columnas de distinto tamaño matriz mal formada\n",
    "            return \"None\"\n",
    "    #Si la matriz esta bien formada devolvemos la tupla correspondiente\n",
    "    dim=(len(matriz),col)\n",
    "    return dim\n",
    "\n",
    "print(dimension(a))\n",
    "print(dimension(b))"
   ]
  },
  {
   "cell_type": "code",
   "execution_count": 2,
   "metadata": {},
   "outputs": [
    {
     "name": "stdout",
     "output_type": "stream",
     "text": [
      "False\n",
      "True\n"
     ]
    }
   ],
   "source": [
    "def es_cuadrada(matriz):\n",
    "    if dimension(matriz)==\"None\":\n",
    "        return False\n",
    "    else:\n",
    "        return len(matriz)==len(matriz[0])\n",
    "    \n",
    "print(es_cuadrada(a))\n",
    "print(es_cuadrada(b))"
   ]
  },
  {
   "cell_type": "code",
   "execution_count": 3,
   "metadata": {},
   "outputs": [
    {
     "name": "stdout",
     "output_type": "stream",
     "text": [
      "False\n",
      "True\n",
      "False\n",
      "False\n"
     ]
    }
   ],
   "source": [
    "def es_simetrica(matriz):\n",
    "    if not es_cuadrada(matriz):\n",
    "        return False\n",
    "    #matriz[i][j]=matriz[j][i]\n",
    "    for fila in range(len(matriz)):\n",
    "        for col in range(fila):\n",
    "            if(matriz[fila][col]!=matriz[col][fila]):\n",
    "                return False\n",
    "    return True\n",
    "\n",
    "\n",
    "print(es_simetrica(a))\n",
    "print(es_simetrica(b))\n",
    "print(es_simetrica(c))\n",
    "print(es_simetrica(d))"
   ]
  },
  {
   "cell_type": "code",
   "execution_count": 4,
   "metadata": {},
   "outputs": [
    {
     "name": "stdout",
     "output_type": "stream",
     "text": [
      "None\n"
     ]
    }
   ],
   "source": [
    "def multiplica_escalar(matriz, k):\n",
    "    if dimension(matriz)==\"None\":#¿Si esta vacia?\n",
    "        return \"None\"\n",
    "    newMat=[]\n",
    "    i=0\n",
    "    for fila in matriz:\n",
    "        newMat.append([])\n",
    "        for n in fila:\n",
    "            newMat[i].append(n*k)\n",
    "        i=i+1\n",
    "    return newMat\n",
    "\n",
    "\n",
    "print(multiplica_escalar(f,2))"
   ]
  },
  {
   "cell_type": "code",
   "execution_count": 6,
   "metadata": {},
   "outputs": [
    {
     "name": "stdout",
     "output_type": "stream",
     "text": [
      "[[2, 0, 2], [0, 6, 4], [2, 4, 4]]\n",
      "[[2, 2, 2], [0, 6, 4], [2, 4, 4]]\n"
     ]
    }
   ],
   "source": [
    "def suma(matriz1, matriz2):\n",
    "    if dimension(matriz1)==\"None\" or dimension(matriz1)!=dimension(matriz2):\n",
    "        return \"None\"\n",
    "    newMat=[]\n",
    "    i=0\n",
    "    for fila in range(len(matriz1)):\n",
    "        newMat.append([])\n",
    "        for col in range(len(matriz1[fila])):\n",
    "            newMat[i].append(matriz1[fila][col]+matriz2[fila][col])\n",
    "        i=i+1\n",
    "    return newMat\n",
    "\n",
    "\n",
    "print(multiplica_escalar(b,2))\n",
    "print(suma(b,c))"
   ]
  },
  {
   "cell_type": "code",
   "execution_count": 15,
   "metadata": {},
   "outputs": [
    {
     "name": "stdout",
     "output_type": "stream",
     "text": [
      "2\n",
      "0\n",
      "-1\n"
     ]
    }
   ],
   "source": [
    "g = {\"nodos\": [\"a\", \"b\", \"c\", \"d\"],\n",
    "     \"aristas\": {\"a\": [\"a\", \"b\", \"c\"],\n",
    "                 \"b\": [\"a\", \"c\"],\n",
    "                 \"c\": [\"c\"],\n",
    "                 \"d\": [\"c\"]\n",
    "                 }\n",
    "     }\n",
    "nodoOMal = {\"nodos\": [\"a\", \"b\", \"c\", \"d\"],\n",
    "     \"aristas\": {\"a\": [\"a\", \"b\", \"c\"],\n",
    "                 \"b\": [\"a\", \"c\"],\n",
    "                 \"c\": [\"c\"],\n",
    "                 \"d\": [\"c\"],\n",
    "                 \"e\":[]\n",
    "                 }\n",
    "     }\n",
    "nodoDMal = {\"nodos\": [\"a\", \"b\", \"c\", \"d\"],\n",
    "     \"aristas\": {\"a\": [\"a\", \"b\", \"c\"],\n",
    "                 \"b\": [\"a\", \"c\"],\n",
    "                 \"c\": [\"c\"],\n",
    "                 \"d\": [\"c\",\"e\"]\n",
    "                 }\n",
    "     }\n",
    "\n",
    "def validar(grafo):\n",
    "    claves = grafo.keys()\n",
    "    if (len(claves) != 2 or \"nodos\" not in grafo or \"aristas\" not in grafo):\n",
    "        return False\n",
    "\n",
    "    if (len(grafo[\"nodos\"]) == 0):\n",
    "        return False\n",
    "    #Preguntar si podemos usar la biblioteca collections\n",
    "    # TODO Falta condicion de NO nodos repitidos\n",
    "\n",
    "    for nodo in g[\"nodos\"]:\n",
    "        if(nodo not in g[\"aristas\"]):#Si un nodo no aparece como nodo destino\n",
    "            return False\n",
    "\n",
    "    for nodoO, nodosD in g[\"aristas\"].items():\n",
    "        if nodoO not in g[\"nodos\"]:#Si el nodo origen no es valido\n",
    "            return False\n",
    "        for nodoD in nodosD:\n",
    "            if(nodoD not in g[\"nodos\"]):#Si algun nodo destino no es valido\n",
    "                return False\n",
    "            #TODO Añadir nodoD repetido\n",
    "    return True\n",
    "\n"
   ]
  },
  {
   "cell_type": "code",
   "execution_count": null,
   "metadata": {},
   "outputs": [],
   "source": [
    "def grado_entrada(grafo, nodo):\n",
    "    if(not validar(grafo)or nodo not in grafo[\"nodos\"]):\n",
    "        return -1\n",
    "    aux=0\n",
    "    for o,d in g[\"aristas\"].items():\n",
    "        if nodo in d:\n",
    "            aux=aux+1 \n",
    "    return aux\n",
    "\n",
    "print(grado_entrada(g,\"a\"))\n",
    "print(grado_entrada(g,\"d\"))\n",
    "print(grado_entrada(g,\"Z\"))"
   ]
  }
 ],
 "metadata": {
  "kernelspec": {
   "display_name": "base",
   "language": "python",
   "name": "python3"
  },
  "language_info": {
   "codemirror_mode": {
    "name": "ipython",
    "version": 3
   },
   "file_extension": ".py",
   "mimetype": "text/x-python",
   "name": "python",
   "nbconvert_exporter": "python",
   "pygments_lexer": "ipython3",
   "version": "3.11.5"
  }
 },
 "nbformat": 4,
 "nbformat_minor": 2
}
