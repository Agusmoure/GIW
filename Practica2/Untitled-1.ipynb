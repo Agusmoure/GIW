{
 "cells": [
  {
   "cell_type": "code",
   "execution_count": null,
   "metadata": {},
   "outputs": [],
   "source": [
    "import csv\n",
    "from pprint import pprint\n",
    "### Formato CSV\n",
    "def lee_fichero_accidentes(ruta):\n",
    "        with open(ruta, 'r', newline='',encoding='utf8') as fich:\n",
    "            ejemploLector = csv.DictReader(fich, delimiter=';')\n",
    "            for linea in ejemploLector:\n",
    "                 print(f\"{linea}\")\n",
    "\n",
    "lee_fichero_accidentes(\"./AccidentesBicicletas_2021.csv\")"
   ]
  },
  {
   "cell_type": "code",
   "execution_count": null,
   "metadata": {},
   "outputs": [],
   "source": [
    "import json\n",
    "import pprint\n",
    "from collections import Counter\n",
    "def leer_monumentos(ruta):\n",
    "    with open(ruta, 'r',newline='',encoding='utf8')as fich:\n",
    "        json_dict=json.load(fich)\n",
    "    return json_dict[\"@graph\"]\n",
    "\n",
    "print(type(leer_monumentos(\"300356-0-monumentos-ciudad-madrid.json\")))\n"
   ]
  },
  {
   "cell_type": "code",
   "execution_count": null,
   "metadata": {},
   "outputs": [],
   "source": [
    "def codigos_postales(monumentos):\n",
    "    postal_code_monuments= [monumento[\"address\"][\"postal-code\"] for monumento in monumentos ]\n",
    "    return Counter(postal_code_monuments)\n",
    "\n",
    "print(codigos_postales(leer_monumentos(\"300356-0-monumentos-ciudad-madrid.json\")))"
   ]
  }
 ],
 "metadata": {
  "kernelspec": {
   "display_name": "base",
   "language": "python",
   "name": "python3"
  },
  "language_info": {
   "codemirror_mode": {
    "name": "ipython",
    "version": 3
   },
   "file_extension": ".py",
   "mimetype": "text/x-python",
   "name": "python",
   "nbconvert_exporter": "python",
   "pygments_lexer": "ipython3",
   "version": "3.11.7"
  }
 },
 "nbformat": 4,
 "nbformat_minor": 2
}
