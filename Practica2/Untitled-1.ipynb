{
 "cells": [
  {
   "cell_type": "code",
   "execution_count": null,
   "metadata": {},
   "outputs": [],
   "source": [
    "import csv\n",
    "from pprint import pprint\n",
    "### Formato CSV\n",
    "def lee_fichero_accidentes(ruta):\n",
    "    with open(ruta, 'r', newline='',encoding='utf8') as fich:\n",
    "        ejemploLector = csv.DictReader(fich, delimiter=';')\n",
    "        datos=list(ejemploLector)\n",
    "    return datos\n",
    "\n",
    "auxCSV=lee_fichero_accidentes(\"./AccidentesBicicletas_2021.csv\")\n",
    "# for linea in auxCSV:\n",
    "#     print(linea)"
   ]
  },
  {
   "cell_type": "code",
   "execution_count": null,
   "metadata": {},
   "outputs": [],
   "source": [
    "def contar_accidentes(datos):\n",
    "    contador = {}\n",
    "    for accidente in datos:\n",
    "        distrito = accidente.get('distrito')\n",
    "        tipo_accidente = accidente.get('tipo_accidente')\n",
    "        c=contador.get((distrito,tipo_accidente),0)+1\n",
    "        contador[(distrito, tipo_accidente)] = c\n",
    "    return contador\n",
    "\n",
    "print(contar_accidentes(auxCSV))"
   ]
  },
  {
   "cell_type": "code",
   "execution_count": null,
   "metadata": {},
   "outputs": [],
   "source": [
    "from collections import Counter\n",
    "#TODO conjuntos \n",
    "def dias_mas_accidentes(datos):\n",
    "    auxsd=[dato.get('fecha') for dato in datos]\n",
    "    c=Counter(auxsd).most_common()\n",
    "    mas=[pareja for pareja in c if pareja[1]==c[0][1]]\n",
    "    return mas\n",
    "print(dias_mas_accidentes(auxCSV))"
   ]
  },
  {
   "cell_type": "code",
   "execution_count": null,
   "metadata": {},
   "outputs": [],
   "source": [
    "import json\n",
    "import pprint\n",
    "from collections import Counter\n",
    "def leer_monumentos(ruta):\n",
    "    with open(ruta, 'r',newline='',encoding='utf8')as fich:\n",
    "        json_dict=json.load(fich)\n",
    "    return json_dict[\"@graph\"]\n",
    "aux=leer_monumentos(\"300356-0-monumentos-ciudad-madrid.json\")\n",
    "print(type(aux))\n"
   ]
  },
  {
   "cell_type": "code",
   "execution_count": null,
   "metadata": {},
   "outputs": [],
   "source": [
    "def codigos_postales(monumentos):\n",
    "    postal_code_monuments= [monumento[\"address\"][\"postal-code\"] for monumento in monumentos ]\n",
    "    return Counter(postal_code_monuments).most_common() \n",
    "aux_ej_2=codigos_postales(leer_monumentos(\"300356-0-monumentos-ciudad-madrid.json\"))\n",
    "for tupla in aux_ej_2:\n",
    "    print(tupla)"
   ]
  },
  {
   "cell_type": "code",
   "execution_count": null,
   "metadata": {},
   "outputs": [],
   "source": [
    "#TODO debe devolver un conjunto, no una lista\n",
    "def busqueda_palabras_clave(monumentos, palabras):\n",
    "    lista=[]\n",
    "    for monumento in monumentos:\n",
    "        words=True\n",
    "        for palabra in palabras:\n",
    "            desc_and_title=monumento[\"organization\"][\"organization-desc\"]+\" \"+monumento[\"title\"]\n",
    "            if palabra.lower() not in desc_and_title.lower() :\n",
    "                words=False\n",
    "        if(words):\n",
    "            lista.append((monumento[\"title\"],monumento[\"address\"][\"district\"][\"@id\"]))\n",
    "    return lista\n",
    "aux_ej_3=busqueda_palabras_clave(aux,[\"escultura\", \"agua\"])\n",
    "for tupla in aux_ej_3:\n",
    "    print(tupla)"
   ]
  },
  {
   "cell_type": "code",
   "execution_count": null,
   "metadata": {},
   "outputs": [],
   "source": [
    "from geopy.geocoders import Nominatim\n",
    "from geopy import distance\n",
    "def busqueda_distancia(monumentos, direccion, distancia):\n",
    "    geolocator = Nominatim(user_agent=\"GIW_pr2\")\n",
    "    lista=[]\n",
    "    dir=geolocator.geocode(direccion,addressdetails=True)\n",
    "    for monumento in monumentos:\n",
    "        if \"location\" not in monumento:\n",
    "            continue\n",
    "        lugar=(monumento[\"location\"][\"latitude\"],monumento[\"location\"][\"longitude\"])\n",
    "        distancia_al_monumento=distance.distance((dir.latitude,dir.longitude), lugar).km\n",
    "        if distancia_al_monumento<distancia:\n",
    "            lista.append((monumento[\"title\"],monumento[\"id\"],distancia_al_monumento))\n",
    "            #Sacado de la documentación de sort si estan a la misma distancia mantiene el orden de aparición\n",
    "            lista.sort(key=lambda monumento:monumento[2])\n",
    "    return lista\n",
    "aux_ej_4=busqueda_distancia(aux,\"Profesor José García Santesmases 9, Madrid, España\",1)\n",
    "for terna in aux_ej_4:\n",
    "    print(terna)"
   ]
  }
 ],
 "metadata": {
  "kernelspec": {
   "display_name": "base",
   "language": "python",
   "name": "python3"
  },
  "language_info": {
   "codemirror_mode": {
    "name": "ipython",
    "version": 3
   },
   "file_extension": ".py",
   "mimetype": "text/x-python",
   "name": "python",
   "nbconvert_exporter": "python",
   "pygments_lexer": "ipython3",
   "version": "3.11.5"
  }
 },
 "nbformat": 4,
 "nbformat_minor": 2
}
