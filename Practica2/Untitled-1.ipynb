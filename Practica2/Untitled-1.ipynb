{
 "cells": [
  {
   "cell_type": "code",
   "execution_count": 51,
   "metadata": {},
   "outputs": [
    {
     "name": "stdout",
     "output_type": "stream",
     "text": [
      "<class 'list'>\n"
     ]
    }
   ],
   "source": [
    "import csv\n",
    "from pprint import pprint\n",
    "### Formato CSV\n",
    "def lee_fichero_accidentes(ruta):\n",
    "    with open(ruta, 'r', newline='',encoding='utf8') as fich:\n",
    "        ejemploLector = csv.DictReader(fich, delimiter=';')\n",
    "        datos=list(ejemploLector)\n",
    "    return datos\n",
    "\n",
    "auxCSV=lee_fichero_accidentes(\"./AccidentesBicicletas_2021.csv\")\n",
    "print(type(auxCSV))\n",
    "# for linea in auxCSV:\n",
    "#     print(linea)"
   ]
  },
  {
   "cell_type": "code",
   "execution_count": 52,
   "metadata": {},
   "outputs": [
    {
     "name": "stdout",
     "output_type": "stream",
     "text": [
      "<class 'dict'>\n"
     ]
    }
   ],
   "source": [
    "def contar_accidentes(datos):\n",
    "    \"\"\"\n",
    "    Dada una lista de diccionarios de accidentes, devuelve un diccionario\n",
    "    con clave tupla(distrito, tipo accidente) y valor cantidad de accidentes de ese tipo\n",
    "    \"\"\"\n",
    "    contador = {}\n",
    "    for accidente in datos:\n",
    "        distrito = accidente.get('distrito')\n",
    "        tipo_accidente = accidente.get('tipo_accidente')\n",
    "        cantidad=contador.get((distrito,tipo_accidente),0)+1\n",
    "        contador[(distrito, tipo_accidente)] = cantidad\n",
    "    return contador\n",
    "\n",
    "print(type(contar_accidentes(auxCSV)))"
   ]
  },
  {
   "cell_type": "code",
   "execution_count": null,
   "metadata": {},
   "outputs": [],
   "source": [
    "from collections import Counter\n",
    "def dias_mas_accidentes(datos):\n",
    "    \"\"\"\n",
    "    Dias con mas accidentes\n",
    "    \"\"\"\n",
    "    auxsd={dato.get('fecha') for dato in datos}\n",
    "    cantidad=Counter(auxsd).most_common()\n",
    "    resultado={pareja for pareja in cantidad if pareja[1]==cantidad[0][1]}\n",
    "\n",
    "    return resultado\n",
    "print(dias_mas_accidentes(auxCSV))"
   ]
  },
  {
   "cell_type": "code",
   "execution_count": 53,
   "metadata": {},
   "outputs": [
    {
     "name": "stdout",
     "output_type": "stream",
     "text": [
      "<class 'list'>\n"
     ]
    }
   ],
   "source": [
    "def puntos_negros_distrito(datos, distrito, k):\n",
    "    accidentes=[accidente['localizacion'] for accidente in datos if(accidente.get('distrito')==distrito)]\n",
    "    contador=Counter(accidentes)\n",
    "    repes=contador.most_common(k)\n",
    "    repes.sort(key=lambda x:(x[1],x[0]),reverse=True)\n",
    "    return repes\n",
    "\n",
    "print(type(puntos_negros_distrito(auxCSV,'MONCLOA-ARAVACA',16)))"
   ]
  },
  {
   "cell_type": "code",
   "execution_count": 56,
   "metadata": {},
   "outputs": [
    {
     "name": "stdout",
     "output_type": "stream",
     "text": [
      "<class 'list'>\n"
     ]
    }
   ],
   "source": [
    "import json\n",
    "import pprint\n",
    "from collections import Counter\n",
    "def leer_monumentos(ruta):\n",
    "    with open(ruta, 'r',newline='',encoding='utf8')as fich:\n",
    "        json_dict=json.load(fich)\n",
    "    return json_dict[\"@graph\"]\n",
    "aux=leer_monumentos(\"300356-0-monumentos-ciudad-madrid.json\")\n",
    "print(type(aux))\n"
   ]
  },
  {
   "cell_type": "code",
   "execution_count": 59,
   "metadata": {},
   "outputs": [
    {
     "name": "stdout",
     "output_type": "stream",
     "text": [
      "<class 'list'>\n"
     ]
    }
   ],
   "source": [
    "def codigos_postales(monumentos):\n",
    "    postal_code_monuments= [monumento[\"address\"][\"postal-code\"] for monumento in monumentos ]\n",
    "    return Counter(postal_code_monuments).most_common() \n",
    "aux_ej_2=codigos_postales(leer_monumentos(\"300356-0-monumentos-ciudad-madrid.json\"))\n",
    "print(type(aux_ej_2))\n",
    "# for tupla in aux_ej_2:\n",
    "#     print(tupla)"
   ]
  },
  {
   "cell_type": "code",
   "execution_count": 62,
   "metadata": {},
   "outputs": [
    {
     "name": "stdout",
     "output_type": "stream",
     "text": [
      "<class 'set'>\n",
      "('Octaedro-Aire', 'https://datos.madrid.es/egob/kos/Provincia/Madrid/Municipio/Madrid/Distrito/Arganzuela')\n",
      "('Fuentecilla del Leal', 'https://datos.madrid.es/egob/kos/Provincia/Madrid/Municipio/Madrid/Distrito/Centro')\n",
      "('Felipe IV', 'https://datos.madrid.es/egob/kos/Provincia/Madrid/Municipio/Madrid/Distrito/Centro')\n",
      "('Jacinto Verdaguer', 'https://datos.madrid.es/egob/kos/Provincia/Madrid/Municipio/Madrid/Distrito/Distrito')\n",
      "('Puente de Toledo', 'https://datos.madrid.es/egob/kos/Provincia/Madrid/Municipio/Madrid/Distrito/Arganzuela')\n",
      "('Fuente mural Dr. Jaime Ferrán y Clúa', 'https://datos.madrid.es/egob/kos/Provincia/Madrid/Municipio/Madrid/Distrito/Moncloa-Aravaca')\n",
      "('Rubén Darío', 'https://datos.madrid.es/egob/kos/Provincia/Madrid/Municipio/Madrid/Distrito/Chamberi')\n",
      "('Tetraedro-Fuego', 'https://datos.madrid.es/egob/kos/Provincia/Madrid/Municipio/Madrid/Distrito/Arganzuela')\n",
      "('Fuente del pequeño tritón', 'https://datos.madrid.es/egob/kos/Provincia/Madrid/Municipio/Madrid/Distrito/Retiro')\n",
      "('Fuente del Ministerio de Industria', 'https://datos.madrid.es/egob/kos/Provincia/Madrid/Municipio/Madrid/Distrito/Chamartin')\n",
      "('Bravo Murillo', 'https://datos.madrid.es/egob/kos/Provincia/Madrid/Municipio/Madrid/Distrito/Chamberi')\n",
      "('Fuente de Cibeles', 'https://datos.madrid.es/egob/kos/Provincia/Madrid/Municipio/Madrid/Distrito/Retiro')\n",
      "('Fuente edificio Paseo de la Castellana 35', 'https://datos.madrid.es/egob/kos/Provincia/Madrid/Municipio/Madrid/Distrito/Distrito')\n",
      "('Mariblanca. Réplica Puerta del Sol', 'https://datos.madrid.es/egob/kos/Provincia/Madrid/Municipio/Madrid/Distrito/Centro')\n",
      "('Alfonso XII', 'https://datos.madrid.es/egob/kos/Provincia/Madrid/Municipio/Madrid/Distrito/Distrito')\n",
      "('Fuente de los Delfines', 'https://datos.madrid.es/egob/kos/Provincia/Madrid/Municipio/Madrid/Distrito/Chamartin')\n",
      "('Fuente de la Unión y el Fénix', 'https://datos.madrid.es/egob/kos/Provincia/Madrid/Municipio/Madrid/Distrito/Chamberí')\n",
      "('Juan Santamaría', 'https://datos.madrid.es/egob/kos/Provincia/Madrid/Municipio/Madrid/Distrito/Fuencarral-ElPardo')\n",
      "('Hexaedro o cubo-Tierra', 'https://datos.madrid.es/egob/kos/Provincia/Madrid/Municipio/Madrid/Distrito/Arganzuela')\n",
      "('Fuente plaza San Juan de la Cruz', 'https://datos.madrid.es/egob/kos/Provincia/Madrid/Municipio/Madrid/Distrito/Chamberi')\n",
      "('Fuente del río Lozoya', 'https://datos.madrid.es/egob/kos/Provincia/Madrid/Municipio/Madrid/Distrito/Chamberi')\n",
      "('Fuente de la Cruz Verde', 'https://datos.madrid.es/egob/kos/Provincia/Madrid/Municipio/Madrid/Distrito/Centro')\n",
      "('Icosaedro-Agua', 'https://datos.madrid.es/egob/kos/Provincia/Madrid/Municipio/Madrid/Distrito/Arganzuela')\n",
      "('San Isidro', 'https://datos.madrid.es/egob/kos/Provincia/Madrid/Municipio/Madrid/Distrito/Distrito')\n",
      "('Santa Rosa de Lima', 'https://datos.madrid.es/egob/kos/Provincia/Madrid/Municipio/Madrid/Distrito/Carabanchel')\n",
      "('Venus emergiendo de las aguas', 'https://datos.madrid.es/egob/kos/Provincia/Madrid/Municipio/Madrid/Distrito/Usera')\n",
      "('Germania', 'https://datos.madrid.es/egob/kos/Provincia/Madrid/Municipio/Madrid/Distrito/Chamberi')\n",
      "('Fuente de los Tritones', 'https://datos.madrid.es/egob/kos/Provincia/Madrid/Municipio/Madrid/Distrito/Centro')\n",
      "('Estanque Descubrimiento', 'https://datos.madrid.es/egob/kos/Provincia/Madrid/Municipio/Madrid/Distrito/Salamanca')\n",
      "('Fuente del Ministerio de Economía', 'https://datos.madrid.es/egob/kos/Provincia/Madrid/Municipio/Madrid/Distrito/Chamartin')\n",
      "('San José', 'https://datos.madrid.es/egob/kos/Provincia/Madrid/Municipio/Madrid/Distrito/Carabanchel')\n",
      "('Fuente del parque de las Naciones', 'https://datos.madrid.es/egob/kos/Provincia/Madrid/Municipio/Madrid/Distrito/Chamberí')\n",
      "('Puerta Cerrada', 'https://datos.madrid.es/egob/kos/Provincia/Madrid/Municipio/Madrid/Distrito/Centro')\n",
      "('Dodecaedro-Éter', 'https://datos.madrid.es/egob/kos/Provincia/Madrid/Municipio/Madrid/Distrito/Arganzuela')\n",
      "('Lámina de agua con Escultura', 'https://datos.madrid.es/egob/kos/Provincia/Madrid/Municipio/Madrid/Distrito/Tetuan')\n",
      "('Simón Bolívar', 'https://datos.madrid.es/egob/kos/Provincia/Madrid/Municipio/Madrid/Distrito/Moncloa-Aravaca')\n",
      "('Francisco de Quevedo y Villegas', 'https://datos.madrid.es/egob/kos/Provincia/Madrid/Municipio/Madrid/Distrito/Chamberi')\n",
      "('Serie escultórica en la Universidad de Cantoblanco', 'https://datos.madrid.es/egob/kos/Provincia/Madrid/Municipio/Madrid/Distrito/Fuencarral-ElPardo')\n",
      "('Santa María de la Cabeza', 'https://datos.madrid.es/egob/kos/Provincia/Madrid/Municipio/Madrid/Distrito/Centro')\n",
      "('Puerta de la Ilustración', 'https://datos.madrid.es/egob/kos/Provincia/Madrid/Municipio/Madrid/Distrito/Fuencarral-ElPardo')\n",
      "('Fuente Poliedros Maclados en el Cubo', 'https://datos.madrid.es/egob/kos/Provincia/Madrid/Municipio/Madrid/Distrito/SanBlas')\n"
     ]
    }
   ],
   "source": [
    "\n",
    "def busqueda_palabras_clave(monumentos, palabras):\n",
    "    conjunto=set()\n",
    "    for monumento in monumentos:\n",
    "        words=True\n",
    "        for palabra in palabras:\n",
    "            desc_and_title=monumento[\"organization\"][\"organization-desc\"]+\" \"+monumento[\"title\"]\n",
    "            if palabra.lower() not in desc_and_title.lower() :\n",
    "                words=False\n",
    "                break\n",
    "        if(words):\n",
    "            if \"district\" not in monumento[\"address\"]:\n",
    "                text=''\n",
    "            else:\n",
    "                text=monumento[\"address\"][\"district\"][\"@id\"]\n",
    "            conjunto.add((monumento[\"title\"],text))\n",
    "    return conjunto\n",
    "aux_ej_3=busqueda_palabras_clave(aux,[\"escultura\", \"agua\"])\n",
    "print(type(aux_ej_3))\n",
    "for tupla in aux_ej_3:\n",
    "    print(tupla)"
   ]
  },
  {
   "cell_type": "code",
   "execution_count": 61,
   "metadata": {},
   "outputs": [
    {
     "name": "stdout",
     "output_type": "stream",
     "text": [
      "<class 'list'>\n"
     ]
    }
   ],
   "source": [
    "from geopy.geocoders import Nominatim\n",
    "from geopy import distance\n",
    "def busqueda_distancia(monumentos, direccion, distancia):\n",
    "    geolocator = Nominatim(user_agent=\"GIW_pr2\")\n",
    "    lista=[]\n",
    "    dir=geolocator.geocode(direccion,addressdetails=True)\n",
    "    for monumento in monumentos:\n",
    "        if \"location\" not in monumento:\n",
    "            continue\n",
    "        lugar=(monumento[\"location\"][\"latitude\"],monumento[\"location\"][\"longitude\"])\n",
    "        distancia_al_monumento=distance.distance((dir.latitude,dir.longitude), lugar).km\n",
    "        if distancia_al_monumento<distancia:\n",
    "            lista.append((monumento[\"title\"],monumento[\"id\"],distancia_al_monumento))\n",
    "            #Sacado de la documentación de sort si estan a la misma distancia mantiene el orden de aparición\n",
    "            lista.sort(key=lambda monumento:monumento[2])\n",
    "    return lista\n",
    "aux_ej_4=busqueda_distancia(aux,\"Profesor José García Santesmases 9, Madrid, España\",1)\n",
    "print(type(aux_ej_4))\n",
    "# for terna in aux_ej_4:\n",
    "#     print(terna)"
   ]
  }
 ],
 "metadata": {
  "kernelspec": {
   "display_name": "base",
   "language": "python",
   "name": "python3"
  },
  "language_info": {
   "codemirror_mode": {
    "name": "ipython",
    "version": 3
   },
   "file_extension": ".py",
   "mimetype": "text/x-python",
   "name": "python",
   "nbconvert_exporter": "python",
   "pygments_lexer": "ipython3",
   "version": "3.11.7"
  }
 },
 "nbformat": 4,
 "nbformat_minor": 2
}
