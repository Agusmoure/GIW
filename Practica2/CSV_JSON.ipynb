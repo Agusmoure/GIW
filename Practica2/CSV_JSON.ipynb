{
 "cells": [
  {
   "cell_type": "markdown",
   "metadata": {},
   "source": [
    "_Antonio Sarasa, Enrique Martín_"
   ]
  },
  {
   "cell_type": "markdown",
   "metadata": {},
   "source": [
    "# Archivos CSV"
   ]
  },
  {
   "cell_type": "markdown",
   "metadata": {},
   "source": [
    "#### Introducción\n",
    "\n",
    "Un archivo CSV (_Comma Separated Values_) es un archivo de texto plano que almacenan los valores separados por comas.\n",
    "Los archivos se encuentran estructurados por líneas, y cada línea es un conjunto de valores separados por comas.\n",
    "\n",
    "```\n",
    "04/05/2015,13:34,Manzanas,73\n",
    "04/05/2015,3:41,Cerezas,85\n",
    "04/06/2015,12:46,Peras,14\n",
    "04/08/2015,8:59,Naranjas,52\n",
    "04/10/2015,2:07,Manzanas,152\n",
    "04/10/2015,18:10,Platanos,23\n",
    "04/10/2015,2:40,Fresas,98\n",
    "```\n",
    "\n",
    "Algunas características de los archivos csv:\n",
    "\n",
    "* Los valores no tienen tipos, son todo cadenas.\n",
    "* No tienen atributos de configuración acerca del tamaño de la fuente, color,…\n",
    "* No tienen imágenes o dibujos incrustado.\n",
    "* Los archivos tienen extensión .csv\n",
    "\n",
    "Las ventajas que ofrece este formato:\n",
    "\n",
    "* Es simple.\n",
    "* Está soportado por muchos programas.\n",
    "* Permiten representar los datos de las hojas de cálculo.\n",
    "* Puede ser visualizado por los editores de texto.\n",
    "\n",
    "Dado que los archivos CSV son archivos de texto, se podría intentar leer como una cadena y posteriormente procesar esa cadena. \n",
    "\n",
    "Como los valores están delimitados por comas, se podría usar el método split() sobre cada línea para obtener los valores. \n",
    "\n",
    "Sin embargo no siempre las comas representan los límites de un valor, dado que los archivos CSV también tienen su propio conjunto de caracteres de escape para permitir que las comas y otros caracteres formen parte de un valor, y esos caracteres no son soportados por split().\n"
   ]
  },
  {
   "cell_type": "markdown",
   "metadata": {},
   "source": [
    "#### El módulo csv de Python\n",
    "\n",
    "El modulo csv de Python permite leer y escribir archivos csv.\n",
    "\n",
    "Para leer datos de un archivo csv en primer lugar hay que crear un objeto Reader. Este objeto permite iterar sobre las líneas del archivo CSV."
   ]
  },
  {
   "cell_type": "code",
   "execution_count": 1,
   "metadata": {},
   "outputs": [
    {
     "name": "stdout",
     "output_type": "stream",
     "text": [
      "[['04/05/2015', '13:34', 'Manzanas', '73'],\n",
      " ['04/05/2015', '3:41', 'Cerezas', '85'],\n",
      " ['04/06/2015', '12:46', 'Peras', '14'],\n",
      " ['04/08/2015', '8:59', 'Naranjas', '52'],\n",
      " ['04/10/2015', '2:07', 'Manzanas', '152'],\n",
      " ['04/10/2015', '18:10', 'Platanos', '23'],\n",
      " ['04/10/2015', '2:40', 'Fresas', '98']]\n"
     ]
    }
   ],
   "source": [
    "import csv\n",
    "from pprint import pprint\n",
    "\n",
    "with open(\"Ejemplo.csv\", 'r', newline='', encoding='utf8') as fich:\n",
    "    ejemploLector = csv.reader(fich)\n",
    "    ejemploDatos = list(ejemploLector)\n",
    "    pprint(ejemploDatos)"
   ]
  },
  {
   "cell_type": "markdown",
   "metadata": {},
   "source": [
    "En el ejemplo para leer el archivo CSV, se abre el archivo usando la función open() como si fuera un archivo texto normal, pero en vez de usar los métodos read() o readlines() se usa la función csv.reader(). Esta función devuelve un objeto de tipo Reader que puede ser usada para leer el archivo.\n",
    "\n",
    "Observar que a la función csv.reader() no se le pasa directamente el nombre de un archivo. \n",
    "\n",
    "Una vez que se dispone del objeto Reader, para accede a los valores se pueden convertir en una lista usando el método list(). Este método retorna una lista de listas.\n",
    "\n",
    "Una vez que se tiene almacenado el archivo CSV como una lista de listas, se puede accede a un valor concreto mediante indéxación sobre la lista: ejemploDatos[x][y]  donde x  representa una lista de la listas de lista e y representa el índice del elemento de esa lista al que se quiere acceder."
   ]
  },
  {
   "cell_type": "code",
   "execution_count": 2,
   "metadata": {},
   "outputs": [
    {
     "data": {
      "text/plain": [
       "'04/05/2015'"
      ]
     },
     "execution_count": 2,
     "metadata": {},
     "output_type": "execute_result"
    }
   ],
   "source": [
    "ejemploDatos[0][0]"
   ]
  },
  {
   "cell_type": "code",
   "execution_count": 3,
   "metadata": {},
   "outputs": [
    {
     "data": {
      "text/plain": [
       "'13:34'"
      ]
     },
     "execution_count": 3,
     "metadata": {},
     "output_type": "execute_result"
    }
   ],
   "source": [
    "ejemploDatos[0][1]"
   ]
  },
  {
   "cell_type": "code",
   "execution_count": 4,
   "metadata": {},
   "outputs": [
    {
     "data": {
      "text/plain": [
       "'Manzanas'"
      ]
     },
     "execution_count": 4,
     "metadata": {},
     "output_type": "execute_result"
    }
   ],
   "source": [
    "ejemploDatos[0][2]"
   ]
  },
  {
   "cell_type": "code",
   "execution_count": 5,
   "metadata": {},
   "outputs": [
    {
     "data": {
      "text/plain": [
       "'3:41'"
      ]
     },
     "execution_count": 5,
     "metadata": {},
     "output_type": "execute_result"
    }
   ],
   "source": [
    "ejemploDatos[1][1]"
   ]
  },
  {
   "cell_type": "code",
   "execution_count": 6,
   "metadata": {},
   "outputs": [
    {
     "data": {
      "text/plain": [
       "'2:40'"
      ]
     },
     "execution_count": 6,
     "metadata": {},
     "output_type": "execute_result"
    }
   ],
   "source": [
    "ejemploDatos[6][1]"
   ]
  },
  {
   "cell_type": "code",
   "execution_count": 7,
   "metadata": {},
   "outputs": [
    {
     "name": "stdout",
     "output_type": "stream",
     "text": [
      "[['Fecha', 'Hora', 'Fruta', 'Cantidad'],\n",
      " ['04/05/2015', '13:34', 'Manzanas', '73'],\n",
      " ['04/05/2015', '3:41', 'Cerezas', '85'],\n",
      " ['04/06/2015', '12:46', 'Peras', '14'],\n",
      " ['04/08/2015', '8:59', 'Naranjas', '52'],\n",
      " ['04/10/2015', '2:07', 'Manzanas', '152'],\n",
      " ['04/10/2015', '18:10', 'Platanos', '23'],\n",
      " ['04/10/2015', '2:40', 'Fresas', '98']]\n"
     ]
    }
   ],
   "source": [
    "with open(\"Ejemplo_cabecera.csv\", 'r', newline='', encoding='utf8') as fich:\n",
    "    ejemploLector = csv.reader(fich)\n",
    "    ejemploDatos = list(ejemploLector)\n",
    "    pprint(ejemploDatos)"
   ]
  },
  {
   "cell_type": "markdown",
   "metadata": {},
   "source": [
    "También es posible usar el objeto Reader en un bucle for, de forma que se itera sobre las líneas del objeto. Cada línea es una lista de valores."
   ]
  },
  {
   "cell_type": "code",
   "execution_count": 8,
   "metadata": {},
   "outputs": [
    {
     "name": "stdout",
     "output_type": "stream",
     "text": [
      "Linea #1 ['04/05/2015', '13:34', 'Manzanas', '73']\n",
      "Linea #2 ['04/05/2015', '3:41', 'Cerezas', '85']\n",
      "Linea #3 ['04/06/2015', '12:46', 'Peras', '14']\n",
      "Linea #4 ['04/08/2015', '8:59', 'Naranjas', '52']\n",
      "Linea #5 ['04/10/2015', '2:07', 'Manzanas', '152']\n",
      "Linea #6 ['04/10/2015', '18:10', 'Platanos', '23']\n",
      "Linea #7 ['04/10/2015', '2:40', 'Fresas', '98']\n"
     ]
    }
   ],
   "source": [
    "with open(\"Ejemplo.csv\", 'r', newline='', encoding='utf8') as fich:\n",
    "    ejemploLector = csv.reader(fich)\n",
    "    for linea in ejemploLector:\n",
    "        print(f\"Linea #{ejemploLector.line_num} {linea}\")"
   ]
  },
  {
   "cell_type": "markdown",
   "metadata": {},
   "source": [
    "Mediante print se imprime la línea actual y su contenido. Para conseguir la línea actual se usa el atributo line_num del objeto Reader que contiene el número de la línea actual.\n",
    "El objeto Reader solo puede recorrido una única vez, de forma que si se quiere volver a recorrer habría que usar nuevamente el método csv.reader."
   ]
  },
  {
   "cell_type": "markdown",
   "metadata": {},
   "source": [
    "Si el fichero CSV tiene cabecera, como es el caso del fichero `Ejemplo_cabecera.csv`, suele ser más útil leer el fichero usando `csv.DictReader` para que nos devuelva un diccionario por cada fila y poder acceder a cada elemento por clave y no por posición."
   ]
  },
  {
   "cell_type": "code",
   "execution_count": 9,
   "metadata": {},
   "outputs": [
    {
     "name": "stdout",
     "output_type": "stream",
     "text": [
      "Linea #2 {'Fecha': '04/05/2015', 'Hora': '13:34', 'Fruta': 'Manzanas', 'Cantidad': '73'}\n",
      "Linea #3 {'Fecha': '04/05/2015', 'Hora': '3:41', 'Fruta': 'Cerezas', 'Cantidad': '85'}\n",
      "Linea #4 {'Fecha': '04/06/2015', 'Hora': '12:46', 'Fruta': 'Peras', 'Cantidad': '14'}\n",
      "Linea #5 {'Fecha': '04/08/2015', 'Hora': '8:59', 'Fruta': 'Naranjas', 'Cantidad': '52'}\n",
      "Linea #6 {'Fecha': '04/10/2015', 'Hora': '2:07', 'Fruta': 'Manzanas', 'Cantidad': '152'}\n",
      "Linea #7 {'Fecha': '04/10/2015', 'Hora': '18:10', 'Fruta': 'Platanos', 'Cantidad': '23'}\n",
      "Linea #8 {'Fecha': '04/10/2015', 'Hora': '2:40', 'Fruta': 'Fresas', 'Cantidad': '98'}\n"
     ]
    }
   ],
   "source": [
    "with open(\"Ejemplo_cabecera.csv\", 'r', newline='', encoding='utf8') as fich:\n",
    "    ejemploLector = csv.DictReader(fich)\n",
    "    for linea in ejemploLector:\n",
    "        print(f\"Linea #{ejemploLector.line_num} {linea}\")"
   ]
  },
  {
   "cell_type": "markdown",
   "metadata": {},
   "source": [
    "Para escribir datos en un archivo CSV se utiliza un objeto Writer que puede ser construido usando el método csv.writer()."
   ]
  },
  {
   "cell_type": "code",
   "execution_count": 10,
   "metadata": {},
   "outputs": [
    {
     "name": "stdout",
     "output_type": "stream",
     "text": [
      "[['naranjas', 'limones', 'peras', 'uvas'],\n",
      " ['jamón', 'chorizo', 'queso', 'salchichón'],\n",
      " ['1', '3', '4', '6']]\n"
     ]
    }
   ],
   "source": [
    "with open(\"Salida.csv\", \"w\", newline='', encoding='utf8') as archivoSalida:\n",
    "    salidaEscritor = csv.writer(archivoSalida)\n",
    "    salidaEscritor.writerow([\"naranjas\",\"limones\",\"peras\",\"uvas\"])\n",
    "    salidaEscritor.writerow([\"jamón\",\"chorizo\",\"queso\",\"salchichón\"])\n",
    "    salidaEscritor.writerow([1,3,4,6])\n",
    "\n",
    "    \n",
    "with open(\"Salida.csv\", 'r', newline='', encoding='utf8') as archivoEjemplo:\n",
    "    ejemploLector = csv.reader(archivoEjemplo)\n",
    "    ejemploDatos = list(ejemploLector)\n",
    "    pprint(ejemploDatos)"
   ]
  },
  {
   "cell_type": "markdown",
   "metadata": {},
   "source": [
    "En primer lugar se llama a open() con el parámetro “w” que indica que se abre un archivo en modo escritura.\n",
    "\n",
    "Se crea un objeto Writer mediante el método csv.writer().\n",
    "\n",
    "A continuación se utiliza el método writerow() del objeto Writer que toma como argumento una lista, de manera que cada valor de la lista es almacenado como un valor delimitado por comas en el archivo CSV. \n",
    "\n",
    "El valor retornado por el método writerow() es el número de caracteres escritos en el archivo para esa lista de valores.\n",
    "\n",
    "Observar que __si uno de los valores contiene comas__ entonces el módulo lo gestiona como si fuera una única cadena almacenándolo con __dobles comillas__."
   ]
  },
  {
   "cell_type": "code",
   "execution_count": 11,
   "metadata": {},
   "outputs": [
    {
     "name": "stdout",
     "output_type": "stream",
     "text": [
      "[['naranjas', 'limones', 'peras', 'uvas'],\n",
      " ['jamón', 'chorizo, de salamanca', 'queso', 'salchichón'],\n",
      " ['1', '3', '4', '6']]\n"
     ]
    }
   ],
   "source": [
    "with open(\"Salida.csv\", \"w\", newline='', encoding='utf8') as archivoSalida:\n",
    "    salidaEscritor = csv.writer(archivoSalida)\n",
    "    salidaEscritor.writerow([\"naranjas\",\"limones\",\"peras\",\"uvas\"])\n",
    "    salidaEscritor.writerow([\"jamón\",\"chorizo, de salamanca\",\"queso\",\"salchichón\"])\n",
    "    salidaEscritor.writerow([1,3,4,6])\n",
    "\n",
    "    \n",
    "with open(\"Salida.csv\", 'r', newline='', encoding='utf8') as archivoEjemplo:\n",
    "    ejemploLector = csv.reader(archivoEjemplo)\n",
    "    ejemploDatos = list(ejemploLector)\n",
    "    pprint(ejemploDatos)"
   ]
  },
  {
   "cell_type": "markdown",
   "metadata": {},
   "source": [
    "El módulo __csv__ también se encarga de escapar las dobles comillas cuando aparecen en el contenido de alguna casilla:"
   ]
  },
  {
   "cell_type": "code",
   "execution_count": 12,
   "metadata": {},
   "outputs": [
    {
     "name": "stdout",
     "output_type": "stream",
     "text": [
      "[['naranjas', 'Manolito \"El Gato\"', 'peras', 'uvas'],\n",
      " ['jamón', 'chorizo, de salamanca', 'queso', 'salchichón'],\n",
      " ['1', '3', '4', '6']]\n"
     ]
    }
   ],
   "source": [
    "with open(\"Salida.csv\", \"w\", newline='', encoding='utf8') as archivoSalida:\n",
    "    salidaEscritor = csv.writer(archivoSalida)\n",
    "    salidaEscritor.writerow([\"naranjas\",'Manolito \"El Gato\"',\"peras\",\"uvas\"])\n",
    "    salidaEscritor.writerow([\"jamón\",\"chorizo, de salamanca\",\"queso\",\"salchichón\"])\n",
    "    salidaEscritor.writerow([1,3,4,6])\n",
    "\n",
    "    \n",
    "with open(\"Salida.csv\", 'r', newline='', encoding='utf8') as archivoEjemplo:\n",
    "    ejemploLector = csv.reader(archivoEjemplo)\n",
    "    ejemploDatos = list(ejemploLector)\n",
    "    pprint(ejemploDatos)"
   ]
  },
  {
   "cell_type": "markdown",
   "metadata": {},
   "source": [
    "Otras posibilidades son por ejemplo separar los valores por otro separador diferente a la coma o que por ejemplo las líneas estén a su vez separadas por más de un espacio."
   ]
  },
  {
   "cell_type": "code",
   "execution_count": 13,
   "metadata": {},
   "outputs": [
    {
     "name": "stdout",
     "output_type": "stream",
     "text": [
      "[['naranjas', 'limones', 'peras', 'uvas'],\n",
      " ['jamón', 'chorizo, de salamanca', 'queso', 'salchichón'],\n",
      " ['1', '3', '4', '6']]\n"
     ]
    }
   ],
   "source": [
    "with open(\"Salida.csv\", \"w\", newline='', encoding='utf8') as archivoSalida:\n",
    "    salidaEscritor = csv.writer(archivoSalida, delimiter='\\t',lineterminator='\\n')\n",
    "    salidaEscritor.writerow([\"naranjas\",\"limones\",\"peras\",\"uvas\"])\n",
    "    salidaEscritor.writerow([\"jamón\",\"chorizo, de salamanca\",\"queso\",\"salchichón\"])\n",
    "    salidaEscritor.writerow([1,3,4,6])\n",
    "\n",
    "    \n",
    "with open(\"Salida.csv\", 'r', newline='', encoding='utf8') as archivoEjemplo:\n",
    "    ejemploLector = csv.reader(archivoEjemplo, delimiter='\\t')\n",
    "    ejemploDatos = list(ejemploLector)\n",
    "    pprint(ejemploDatos)"
   ]
  },
  {
   "cell_type": "markdown",
   "metadata": {},
   "source": [
    "En el ejemplo se han modificado los atributos  “delimiter”(que especifica el carácter que delimita cada valor que por defecto es una coma) y “lineterminator”(que especifica el carácter que va al final de cada línea).\n"
   ]
  },
  {
   "cell_type": "markdown",
   "metadata": {},
   "source": [
    "Para escribir un fichero CSV con cabeceras, sobre todo si los datos a escribir son una secuencia de diccionarios, lo más útil es utilizar `csv.DictWriter`:"
   ]
  },
  {
   "cell_type": "code",
   "execution_count": 14,
   "metadata": {},
   "outputs": [
    {
     "name": "stdout",
     "output_type": "stream",
     "text": [
      "[['Nombre', 'Edad'], ['ana', '20'], ['pepe', '30.5'], ['eva', '25']]\n"
     ]
    }
   ],
   "source": [
    "datos = [{'Nombre': 'ana',  'Edad': 20},\n",
    "         {'Nombre': 'pepe', 'Edad': 30.5},\n",
    "         {'Nombre': 'eva',  'Edad': 25},\n",
    "        ]\n",
    "\n",
    "with open('personas.csv', 'w', newline='') as csvfile:\n",
    "    campos = ['Nombre', 'Edad']\n",
    "    writer = csv.DictWriter(csvfile, fieldnames=campos)\n",
    "\n",
    "    writer.writeheader()\n",
    "    for d in datos:\n",
    "        writer.writerow(d)\n",
    "        # IMPORTANTE: \n",
    "        # a) Los nombres de los campos deben ser *exactamente igual* que los indicados en fieldnames, incluyendo\n",
    "        #    mayúsculas y minúsculas  \n",
    "        # b) Notad cómo la edad se ha manejado bien aunque era un valor numérico (int, float) y no una cadena\n",
    "        #    de texto\n",
    "\n",
    "with open(\"personas.csv\", 'r', newline='', encoding='utf8') as archivoEjemplo:\n",
    "    ejemploLector = csv.reader(archivoEjemplo)\n",
    "    ejemploDatos = list(ejemploLector)\n",
    "    pprint(ejemploDatos)"
   ]
  },
  {
   "cell_type": "markdown",
   "metadata": {},
   "source": [
    "## Archivos JSON"
   ]
  },
  {
   "cell_type": "markdown",
   "metadata": {
    "collapsed": true,
    "jupyter": {
     "outputs_hidden": true
    }
   },
   "source": [
    "#### Introducción\n",
    "\n",
    "JSON (_JavaScript Object Notation_) es un formato de datos que se caracteriza:\n",
    "* Está basado en JavaScript.\n",
    "* Es utilizado para el intercambio de datos.\n",
    "* Es utilizado por muchas API de sitios web tales como Facebook, Twitter, etc. para devolver su contenido.\n",
    "* Es independiente del lenguaje\n",
    "* Los archivos tienen extensión .json\n",
    "\n",
    "JSON representa objetos de manera textual mediante parejas clave=valor. Por ejemplo:\n",
    "\n",
    "       {\n",
    "        \"libros\":[\n",
    "             {\n",
    "               \"id\": \"01\",\n",
    "               \"lenguaje\": \"Java\",\n",
    "               \"edición\": \"Tercera\",\n",
    "               \"autor\": \"Herbert Schildt\"\n",
    "             },\n",
    "             {\n",
    "               \"id\": \"07\",\n",
    "               \"lenguaje\": \"C++\",\n",
    "               \"edición\": \"Segunda\",\n",
    "               \"autor\": \"E. Balagurusamy\"\n",
    "             }\n",
    "            ]\n",
    "         }\n",
    "\n",
    "La sintaxis de JSON es:\n",
    "* Un objeto se representa como una secuencia de parejas clave=valor encerradas entre llaves { y }. \n",
    "* Las claves son cadenas de texto entre comillas dobles **\"**. \n",
    "* Los valores puedes ser: \n",
    "   * Tipos básicos: cadena, número, booleano, null \n",
    "   * Arrays de valores: entre corchetes [ y ] \n",
    "   * Otros objetos JSON: entre llaves { y }\n",
    "\n",
    "Para ilustrar el uso de JSON, considerar el siguiente ejemplo dónde se quiere representar la ficha de un estudiante con sus datos personales y asignaturas matriculadas:\n",
    "* Nombre=“Pepito Pérez”\n",
    "* DNI=“517899R”\n",
    "* Edad=“22”\n",
    "* Asignaturas matriculadas: \n",
    "   * Obligatorias:SistemasOperativos, Compiladores, y Bases de Datos.\n",
    "   * Optativas: Bases de Datos NoSQL, Minería de Datos, Programación Lógica.\n",
    "   * Libre Elección: Ajedrez, Música Clásica\n",
    "\n",
    "La ficha de información se puede representar en un documento JSON de la siguiente manera:\n",
    "\n",
    "    {\n",
    "       \"Nombre\": \"Pepito Pérez\",\n",
    "       \"DNI\": \"5167778E\",\n",
    "       \"Edad\": 22,\n",
    "       \"Asignaturas\":{\n",
    "            \"Obligatorias\": [\"Sistemas Operativos\", \n",
    "                             \"Compiladores\", \n",
    "                             \"Bases de Datos\"],\n",
    "            \"Optativas\": [\"Bases de Datos NoSQL\", \n",
    "                          \"Minería de Datos\",\n",
    "                          \"Programación Lógica\"],\n",
    "            \"LibreElección\": [\"Ajedrez\",\n",
    "                              \"Música Clásica\"]\n",
    "       }\n",
    "    }     "
   ]
  },
  {
   "cell_type": "markdown",
   "metadata": {},
   "source": [
    "#### El módulo json de Python"
   ]
  },
  {
   "cell_type": "markdown",
   "metadata": {},
   "source": [
    "* Para gestionar documentos JSON desde Python se usa el modulo JSON que permite la traducción de datos JSON en valores de Python.\n",
    "* JSON no puede almacenar cualquier tipo de valor Python, únicamente cadenas, enteros, reales, booleanos, listas, diccionarios y el tipo None.\n",
    "* JSON no puede representar objetos específicos de Python tales como Ficheros, expresiones regulares,…\n",
    "\n",
    "Para traducir una cadena que contiene datos JSON en un valor de Python se utiliza el método json.loads()."
   ]
  },
  {
   "cell_type": "code",
   "execution_count": 15,
   "metadata": {},
   "outputs": [
    {
     "name": "stdout",
     "output_type": "stream",
     "text": [
      "{'nombre': 'Sofia', 'matriculado': True, ' asignaturas': 34, 'ID': None}\n"
     ]
    }
   ],
   "source": [
    "import json\n",
    "from pprint import pp  # pp() es como pprint() pero no ordena los diccionarios\n",
    "\n",
    "JsonDatos = '{\"nombre\":\"Sofia\", \"matriculado\":true,\" asignaturas\":34, \"ID\":null}'\n",
    "PythonDatos = json.loads(JsonDatos)\n",
    "pp(PythonDatos)"
   ]
  },
  {
   "cell_type": "markdown",
   "metadata": {},
   "source": [
    "La llamada al método `loads()` del módulo `json` permite cargar una cadena de datos JSON en valores de Python, retornando como resultado una lista dónde cada elemento es un diccionario. Si se quiere acceder a los distintos elementos del diccionario se usan los índices. La cadena JSON utiliza dobles comillas para las claves.\n",
    "\n",
    "Observar que los valores en los diccionarios no están ordenados, por lo que los pares clave-valor pueden aparecer en orden diferente a como aparecían en la cadena original.\n",
    "\n",
    "La tabla de correspondencia entre JSON y valores Python:\n",
    "\n",
    "<dl>\n",
    "<table>\n",
    "<tr>\n",
    "<th>JSON</th>\n",
    "<th>Python</th>\n",
    "</tr>\n",
    "<tr>\n",
    "<td>object</td>\n",
    "<td>dict</td>\n",
    "</tr>\n",
    "<tr>\n",
    "<td>array</td>\n",
    "<td>list</td>\n",
    "</tr>\n",
    "<tr>\n",
    "<td>string</td>\n",
    "<td>str</td>\n",
    "</tr>\n",
    "<tr>\n",
    "<td>number(int)</td>\n",
    "<td>int</td>\n",
    "</tr>\n",
    "<tr>\n",
    "<td>number(real)</td>\n",
    "<td>float</td>\n",
    "</tr>\n",
    "<tr>\n",
    "<td>true</td>\n",
    "<td>True</td>\n",
    "</tr>\n",
    "<tr>\n",
    "<td>false</td>\n",
    "<td>False</td>\n",
    "</tr>\n",
    "<tr>\n",
    "<td>null</td>\n",
    "<td>None</td>\n",
    "</tr>\n",
    "</table>\n",
    "</dl>\n",
    "\n",
    "Para escribir un valor de Python como una cadena de datos JSON se usa el método `json.dumps()`."
   ]
  },
  {
   "cell_type": "code",
   "execution_count": 16,
   "metadata": {},
   "outputs": [
    {
     "name": "stdout",
     "output_type": "stream",
     "text": [
      "'{\"nombre\": \"Sofia\", \"matriculado\": true, \"asignaturas\": 34, \"ID\": null}'\n"
     ]
    }
   ],
   "source": [
    "PythonDatos = {\"nombre\":\"Sofia\", \"matriculado\":True, \"asignaturas\":34, \"ID\":None}\n",
    "JSONDatos = json.dumps(PythonDatos)\n",
    "pp(JSONDatos)"
   ]
  },
  {
   "cell_type": "markdown",
   "metadata": {},
   "source": [
    "La tabla de correspondencia entre los valores de Python y JSON:\n",
    "<dl>\n",
    "<table>\n",
    "<tr>\n",
    "<th>Python</th>\n",
    "<th>JSON</th>\n",
    "</tr>\n",
    "<tr>\n",
    "<td>dict</td>\n",
    "<td>object</td>\n",
    "</tr>\n",
    "<tr>\n",
    "<td>list, tuple</td>\n",
    "<td>array</td>\n",
    "</tr>\n",
    "<tr>\n",
    "<td>str</td>\n",
    "<td>string</td>\n",
    "</tr>\n",
    "<tr>\n",
    "<td>int,float</td>\n",
    "<td>number</td>\n",
    "</tr>\n",
    "<tr>\n",
    "<td>True</td>\n",
    "<td>true</td>\n",
    "</tr>\n",
    "<tr>\n",
    "<td>False</td>\n",
    "<td>false</td>\n",
    "</tr>\n",
    "<tr>\n",
    "<td>None</td>\n",
    "<td>null</td>\n",
    "</tr>\n",
    "</table>\n",
    "</dl>"
   ]
  },
  {
   "cell_type": "markdown",
   "metadata": {},
   "source": [
    "Para ilustrar el uso de JSON, se va a utilizar la API **JSONPlaceholder**. Se va a recuperar un recurso denominado \"todos\" que contiene 200 documentos JSON. Cada documento contiene un campo de id que identifica de manera única a un usuario y un campo \"completed\" que contiene un booleano. Se quiere:\n",
    "* Recuperar todos los documentos.\n",
    "* Obtener el usuario que más documentos tiene asociados con el campo \"completed\" relleno del valor True. Si hay varios usuarios así, se puede elegir cualquiera\n",
    "* Almacenar en un archivo JSON los documentos asociados al usuario obtenido."
   ]
  },
  {
   "cell_type": "markdown",
   "metadata": {},
   "source": [
    "El programa completo sería:"
   ]
  },
  {
   "cell_type": "code",
   "execution_count": 17,
   "metadata": {},
   "outputs": [
    {
     "name": "stdout",
     "output_type": "stream",
     "text": [
      "[1, 1, 1, 1, 1, 1, 1, 1, 1, 1, 1, 2, 2, 2, 2, 2, 2, 2, 2, 3, 3, 3, 3, 3, 3, 3, 4, 4, 4, 4, 4, 4, 5, 5, 5, 5, 5, 5, 5, 5, 5, 5, 5, 5, 6, 6, 6, 6, 6, 6, 7, 7, 7, 7, 7, 7, 7, 7, 7, 8, 8, 8, 8, 8, 8, 8, 8, 8, 8, 8, 9, 9, 9, 9, 9, 9, 9, 9, 10, 10, 10, 10, 10, 10, 10, 10, 10, 10, 10, 10]\n",
      "Counter({5: 12, 10: 12, 1: 11, 8: 11, 7: 9, 2: 8, 9: 8, 3: 7, 4: 6, 6: 6})\n",
      "5\n"
     ]
    }
   ],
   "source": [
    "import json\n",
    "import requests\n",
    "from collections import Counter\n",
    "\n",
    "response = requests.get(\"https://jsonplaceholder.typicode.com/todos\")\n",
    "todos = response.json() # Intepreta la respuesta como JSON\n",
    "\n",
    "ids_completados = [todo[\"userId\"] for todo in todos if todo[\"completed\"]]\n",
    "print(ids_completados)\n",
    "counter = Counter(ids_completados)\n",
    "print(counter)\n",
    "\n",
    "max_user, _ = counter.most_common(1)[0]  # Si hay empate, most_common() elige el elemento que apareció antes\n",
    "print(max_user)\n",
    "\n",
    "lista = [todo for todo in todos if todo[\"userId\"] == max_user and todo[\"completed\"]]\n",
    "with open(\"salida.json\", \"w\", encoding='utf8') as archivo:\n",
    "  json.dump(lista, archivo, indent=3)"
   ]
  }
 ],
 "metadata": {
  "kernelspec": {
   "display_name": "Python 3 (ipykernel)",
   "language": "python",
   "name": "python3"
  },
  "language_info": {
   "codemirror_mode": {
    "name": "ipython",
    "version": 3
   },
   "file_extension": ".py",
   "mimetype": "text/x-python",
   "name": "python",
   "nbconvert_exporter": "python",
   "pygments_lexer": "ipython3",
   "version": "3.11.10"
  }
 },
 "nbformat": 4,
 "nbformat_minor": 4
}
