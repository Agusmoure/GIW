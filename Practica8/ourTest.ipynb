{
 "cells": [
  {
   "cell_type": "code",
   "execution_count": null,
   "metadata": {},
   "outputs": [],
   "source": [
    "import math\n",
    "\n",
    "from mongoengine import connect, Document, EmbeddedDocument, EmbeddedDocumentField, StringField, \\\n",
    "  IntField, ListField, ValidationError\n",
    "\n",
    "class Tarjeta(EmbeddedDocument):\n",
    "    nombre=StringField()\n",
    "    numero=IntField()\n",
    "    mes=IntField()\n",
    "    year=IntField()\n",
    "    cvv=IntField()\n",
    "\n",
    "class Producto(Document):\n",
    "    codigo_barras=StringField()\n",
    "    nombre=StringField()\n",
    "    categoria_principal=IntField()\n",
    "    categorias_secundarias=ListField()\n",
    "\n",
    "class Linea(EmbeddedDocument):\n",
    "    num_items=IntField()\n",
    "    precio_item=IntField()\n",
    "    nombre_item=StringField()\n",
    "    total=IntField()\n",
    "    producto=EmbeddedDocumentField(Producto, required=False)\n",
    "\n",
    "class Pedido(Document):\n",
    "    total=IntField()\n",
    "    fecha=StringField()\n",
    "    lineas=ListField()\n",
    "\n",
    "class Usuario(Document):\n",
    "    dni=StringField()\n",
    "    nombre=StringField()\n",
    "    apellido1=StringField()\n",
    "    apellido2=StringField()\n",
    "    f_nac=StringField()\n",
    "    tarjetas=ListField()\n",
    "    pedidos=ListField()\n"
   ]
  },
  {
   "cell_type": "code",
   "execution_count": null,
   "metadata": {},
   "outputs": [],
   "source": []
  }
 ],
 "metadata": {
  "language_info": {
   "name": "python"
  }
 },
 "nbformat": 4,
 "nbformat_minor": 2
}
