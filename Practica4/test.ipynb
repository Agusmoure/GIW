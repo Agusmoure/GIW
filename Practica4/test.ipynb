{
 "cells": [
  {
   "cell_type": "code",
   "execution_count": 52,
   "metadata": {},
   "outputs": [],
   "source": [
    "import sqlite3\n",
    "import csv\n",
    "from datetime import datetime\n",
    "def convertir_fecha(fecha):\n",
    "    #Convertimos la fecha a date\n",
    "    aux = datetime.strptime(fecha, '%d/%m/%Y %H:%M')\n",
    "    #Convertimos la fecha al formato yyyy-mm-dd\n",
    "    date = aux.strftime('%Y-%m-%d %H:%M')\n",
    "    return date\n",
    "\n",
    "def crear_bd(db_filename):\n",
    "    '''\n",
    "    '''\n",
    "    conn = sqlite3.connect(db_filename)\n",
    "    conn.execute(\"DROP TABLE IF EXISTS datos_generales\")\n",
    "    conn.execute(\"CREATE TABLE datos_generales (ticker TEXT PRIMARY KEY, nombre TEXT, indice TEXT, pais TEXT)\")\n",
    "    conn.execute(\"DROP TABLE IF EXISTS semanales_IBEX35\")\n",
    "    conn.execute(\"CREATE TABLE semanales_IBEX35 (ticker TEXT, fecha TEXT, precio REAL, FOREIGN KEY (ticker) REFERENCES datos_generales(ticker))\")\n",
    "    conn.commit()\n",
    "    conn.close()\n",
    "\n",
    "crear_bd(\"mercado.sqlite3\")\n",
    "\n",
    "\n",
    "def cargar_bd(db_filename, tab_datos, tab_ibex35):\n",
    "    '''\n",
    "    '''\n",
    "    with open(tab_datos, 'r', newline='', encoding='utf8') as fich:\n",
    "        datos_generales = csv.reader(fich, delimiter=';')\n",
    "        lista_datos_generales = list(datos_generales)\n",
    "    with open(tab_ibex35, 'r', newline='', encoding='utf8') as fich:\n",
    "        datos_ibex = csv.reader(fich, delimiter=';')\n",
    "        lista_datos_ibex = list(datos_ibex)\n",
    "    conn = sqlite3.connect(db_filename)\n",
    "    tabla_ibex = lista_datos_ibex[1::]\n",
    "    for fila in tabla_ibex:\n",
    "        fecha_original = fila[1]\n",
    "        new_date = convertir_fecha(fecha_original)\n",
    "        fila[1] = new_date\n",
    "\n",
    "    conn.executemany(\"INSERT INTO datos_generales(ticker,nombre,indice,pais) VALUES (?,?,?,?)\",lista_datos_generales[1:])\n",
    "    conn.executemany(\"INSERT INTO semanales_IBEX35 (ticker, fecha, precio) VALUES (?, ?, ?)\",tabla_ibex)\n",
    "    # conn.execute(\"INSERT INTO semanales_IBEX35(ticker, fecha,precio) VALUES (?,?,?)\",(\"falla\",\"buenos dias\",6))\n",
    "    conn.commit()\n",
    "    conn.close()\n",
    "\n",
    "\n",
    "\n",
    "\n",
    "cargar_bd(\"mercado.sqlite3\", \"Tabla1.csv\", \"Tabla2.csv\")"
   ]
  },
  {
   "cell_type": "code",
   "execution_count": 53,
   "metadata": {},
   "outputs": [
    {
     "name": "stdout",
     "output_type": "stream",
     "text": [
      "[('AAPL', 'APPLE INC'), ('ABNB', 'AIRBNB RG-A'), ('ADBE', 'ADOBE SYSTEMS INC'), ('ADI', 'ANALOG DEVICES'), ('ADP', 'AUTOMATIC DATA PROC.'), ('ADSK', 'AUTODESK INC'), ('AEP', 'AMER.ELECT.POWER'), ('ALGN', 'ALIGN TECHNOLOGY'), ('AMAT', 'APPLIED MATERIALS'), ('AMD', 'ADVANCED MICRO DE'), ('AMGN', 'AMGEN INC'), ('AMZN', 'AMAZON.COM.INC'), ('ANSS', 'ANSYS'), ('ASML', 'ASML HOLDING'), ('ATVI', 'ACTIVISION BLIZZ'), ('AVGO', 'BROADCOM RG'), ('BIDU', 'BAIDU.COM'), ('BIIB', 'BIOGEN IDEC INC'), ('BKNG', 'BOOKING HOLDINGS'), ('CDNS', 'CADENCE DESIGN'), ('CHTR', 'CHARTER COMMUNICATIONS CL A'), ('CMCSA', 'COMCAST CO CL A'), ('COST', 'COSTCO WHOLESALE'), ('CPRT', 'COPART INC'), ('CRWD', 'CROWDSTRIKE HOLDINGS'), ('CSCO', 'CISCO SYSTEMS INC'), ('CSX', 'CSX CORP'), ('CTAS', 'CINTAS CORP'), ('CTSH', 'COGNIZANT TECH SOL'), ('DDOG', 'DATADOG RG-A'), ('DLTR', 'DOLLAR TREE'), ('DOCU', 'DOCUSIGN RG'), ('DXCM', 'DEXCOM'), ('EA', 'ELECTRONIC ARTS INC'), ('EBAY', 'EBAY.INC.'), ('EXC', 'EXELON'), ('FAST', 'FASTENAL CO'), ('FISV', 'FISERV INC'), ('FTNT', 'FORTINET'), ('GILD', 'GILEAD SCIENCES INC'), ('GOOG', 'ALPHABET CL C'), ('GOOGL', 'ALPHABET CL A'), ('HON', 'HONEYWELL INTERNATIONAL INC'), ('IDXX', 'IDEXX LABORATORIES'), ('ILMN', 'ILLUMINA'), ('INTC', 'INTEL CORP'), ('INTU', 'INTUIT INC'), ('ISRG', 'INTUITIVE SURGICAL'), ('JD', 'JD.COM INC SPON.ADR 2ACTIONS A'), ('KDP', 'KEURIG DR PEPPER'), ('KHC', 'THE KRAFT HEINZ CO'), ('KLAC', 'KLA-TENCOR CORP.'), ('LCID', 'LUCID GROUP INC'), ('LRCX', 'LAM RESEARCH CORP'), ('LULU', 'LULULEMON ATHLETIC'), ('MAR', 'MARRIOTT INTERNATIONAL A'), ('MCHP', 'MICROCHIP TECHNOLOGY INC'), ('MDLZ', 'MONDELEZ'), ('MELI', 'MERCADOLIBRE'), ('META', 'META PLATFORMS INC'), ('MNST', 'MONSTER BEVERAGE'), ('MRNA', 'MODERNA INC'), ('MRVL', 'MARVELL TECH RG'), ('MSFT', 'MICROSOFT CORP'), ('MTCH', 'MATCH GROUP'), ('MU', 'MICRON TECHNOLOGY'), ('NFLX', 'NETFLIX INC.'), ('NTES', 'NETEASE INC.'), ('NVDA', 'NVIDIA CORP'), ('NXPI', 'NXP SEMICONDUCTORS'), ('OKTA', 'OKTA CL A'), ('ORLY', 'O REILLY AUTOMOTIVE'), ('PANW', 'PALO ALTO NETWORKS'), ('PAYX', 'PAYCHEX INC'), ('PCAR', 'PACCAR INC'), ('PDD', 'PINDUODUO SP ADR REP 4 ACTONS'), ('PEP', 'PEPSICO INC.'), ('PTON', 'PELOTON INTERA RG-A'), ('PYPL', 'PAYPAL HOLDINGS'), ('QCOM', 'QUALCOMM INC'), ('REGN', 'REGENERON PHARMA'), ('ROST', 'ROSS STORES INC.'), ('SBUX', 'STARBUCKS'), ('SGEN', 'SEAGEN INC'), ('SIRI', 'SIRIUS XM HOLDINGS'), ('SNPS', 'SYNOPSYS INC'), ('SPLK', 'SPLUNK'), ('SWKS', 'SKYWORKS SOLUTIONS'), ('TEAM', 'ATLASSIAN RG-A'), ('TMUS', 'T MOBILE US'), ('TSLA', 'TESLA MOTORS INC'), ('TXN', 'TEXAS INSTRUMENTS'), ('VRSK', 'VERISK ANALYTICS'), ('VRSN', 'VERISIGN INC'), ('VRTX', 'VERTEX PHARMAC.'), ('WBA', 'WALGREENS BOOTS ALLIANCE'), ('WDAY', 'WORKDAY CLASS A'), ('XEL', 'XCEL ENERGY'), ('ZM', 'ZOOM VIDEO COMMUNICATIONS CL A'), ('ZS', 'ZSCALER RG')]\n"
     ]
    }
   ],
   "source": [
    "def consulta1(db_filename, indice):\n",
    "    '''\n",
    "    '''\n",
    "    conn=sqlite3.connect(db_filename)\n",
    "    cur=conn.execute(\"SELECT ticker, nombre FROM datos_generales WHERE indice = ? ORDER BY ticker ASC\",[indice])\n",
    "    return cur.fetchall()\n",
    "    \n",
    "print(consulta1(\"mercado.sqlite3\",\"Nasdaq 100\"))"
   ]
  },
  {
   "cell_type": "code",
   "execution_count": 54,
   "metadata": {},
   "outputs": [
    {
     "name": "stdout",
     "output_type": "stream",
     "text": [
      "[('ANA', 'ACCIONA', 207.0), ('ACX', 'ACERINOX SA', 12.68), ('ACS', 'ACS', 26.6), ('AENA', 'AENA', 153.45), ('AMS', 'AMADEUS', 62.84), ('MTS', 'ARCELORMITTAL', 32.41), ('BBVA', 'BANCO DE BILBAO VIZCAYA', 6.13), ('SAB', 'BANCO DE SABADELL', 0.94), ('SAN', 'BANCO SANTANDER', 3.48), ('BKT', 'BANKINTER', 5.99), ('CABK', 'CAIXABANK', 3.53), ('CLNX', 'CELLNEX TELECOM', 54.62), ('ANE', 'CRP ACC ENER RN BR', 43.5), ('ENG', 'ENAGAS', 21.72), ('ELE', 'ENDESA', 20.86), ('FER', 'FERROVIAL', 27.56), ('FDR', 'FLUIDRA', 36.9), ('GRF', 'GRIFOLS CL.A', 20.5), ('IAG', 'IAG GROUP', 2.17), ('IBE', 'IBERDROLA', 11.31), ('ITX', 'INDITEX', 32.27), ('IDR', 'INDRA SISTEMAS', 10.95), ('COL', 'INMOBILIARIA COLONIAL', 8.68), ('ROVI', 'LABORATORIOS FARMACEUTICOS ROV', 73.8), ('MAP', 'MAPFRE', 2.01), ('MEL', 'MELIA HOTELS', 7.96), ('MRL', 'MERLIN PROPERTIES', 10.83), ('NTGY', 'NATURGY ENERGY', 29.58), ('PHM', 'PHARMA MAR', 76.42), ('RED', 'RED ELECTRICA', 19.63), ('REP', 'REPSOL', 15.49), ('SCYR', 'SACYR VALLEHERMOSO', 2.69), ('SGRE', 'SIEMENS GAMESA', 23.43), ('SLR', 'SOLARIA ENERGIA Y MEDIO AMBIEN', 23.39), ('TEF', 'TELEFONICA', 5.0)]\n"
     ]
    }
   ],
   "source": [
    "def consulta2(db_filename):\n",
    "    '''\n",
    "    '''\n",
    "    conn=sqlite3.connect(db_filename)\n",
    "    cur=conn.execute('''SELECT G.ticker, G.nombre, MAX(S.precio)\n",
    "                        FROM datos_generales G JOIN semanales_IBEX35 S ON G.ticker=S.ticker\n",
    "                        GROUP BY G.ticker\n",
    "                        ORDER BY G.nombre ASC''')\n",
    "    return cur.fetchall()\n",
    "\n",
    "print(consulta2(\"mercado.sqlite3\"))\n"
   ]
  },
  {
   "cell_type": "code",
   "execution_count": 55,
   "metadata": {},
   "outputs": [
    {
     "name": "stdout",
     "output_type": "stream",
     "text": [
      "[('ANA', 'ACCIONA', 173.75098039215692, 67.69999999999999), ('AENA', 'AENA', 135.57058823529408, 46.54999999999998), ('PHM', 'PHARMA MAR', 62.54470588235293, 25.060000000000002), ('ROVI', 'LABORATORIOS FARMACEUTICOS ROV', 60.5770588235294, 32.08), ('AMS', 'AMADEUS', 56.90039215686273, 16.470000000000006), ('CLNX', 'CELLNEX TELECOM', 43.47176470588235, 22.83), ('ANE', 'CRP ACC ENER RN BR', 34.240980392156864, 16.64), ('NTGY', 'NATURGY ENERGY', 26.57078431372548, 7.549999999999997), ('MTS', 'ARCELORMITTAL', 26.38568627450981, 11.779999999999998), ('FDR', 'FLUIDRA', 25.349803921568625, 22.14), ('FER', 'FERROVIAL', 25.210588235294114, 4.259999999999998), ('ITX', 'INDITEX', 24.468823529411758, 12.170000000000002), ('ACS', 'ACS', 23.245294117647067, 5.580000000000002), ('ENG', 'ENAGAS', 19.752352941176472, 5.879999999999999), ('ELE', 'ENDESA', 18.98470588235294, 5.4399999999999995), ('SLR', 'SOLARIA ENERGIA Y MEDIO AMBIEN', 18.891568627450976, 9.98), ('RED', 'RED ELECTRICA', 18.31411764705883, 3.919999999999998), ('SGRE', 'SIEMENS GAMESA', 18.273137254901958, 10.129999999999999), ('GRF', 'GRIFOLS CL.A', 16.16411764705882, 11.62), ('REP', 'REPSOL', 12.189803921568627, 5.779999999999999), ('ACX', 'ACERINOX SA', 10.316470588235296, 4.48), ('IBE', 'IBERDROLA', 10.176470588235293, 2.3499999999999996)]\n"
     ]
    }
   ],
   "source": [
    "def consulta3(db_filename, limite):\n",
    "    '''\n",
    "    '''\n",
    "    conn=sqlite3.connect(db_filename)\n",
    "    cur=conn.execute('''SELECT G.ticker, G.nombre, AVG(S.precio) AS promedio, MAX(S.precio)-MIN(S.precio) AS diff\n",
    "                        FROM datos_generales G JOIN semanales_IBEX35 S ON G.ticker=S.ticker\n",
    "                        GROUP BY G.ticker\n",
    "                        HAVING promedio > ?\n",
    "                        ORDER BY promedio DESC\n",
    "                     ''',[limite])\n",
    "    return cur.fetchall()\n",
    "\n",
    "print(consulta3(\"mercado.sqlite3\",10))"
   ]
  },
  {
   "cell_type": "code",
   "execution_count": 67,
   "metadata": {},
   "outputs": [
    {
     "name": "stdout",
     "output_type": "stream",
     "text": [
      "[('ACS', '2022-09-30', 23.13), ('ACS', '2022-09-23', 22.13), ('ACS', '2022-09-16', 22.92), ('ACS', '2022-09-09', 23.01), ('ACS', '2022-09-02', 22.62), ('ACS', '2022-08-26', 22.42), ('ACS', '2022-08-19', 23.88), ('ACS', '2022-08-12', 23.98), ('ACS', '2022-08-05', 23.14), ('ACS', '2022-07-29', 23.41), ('ACS', '2022-07-22', 22.22), ('ACS', '2022-07-15', 21.61), ('ACS', '2022-07-08', 21.69), ('ACS', '2022-07-01', 21.59), ('ACS', '2022-06-24', 23.8), ('ACS', '2022-06-17', 24.49), ('ACS', '2022-06-10', 25.32), ('ACS', '2022-06-03', 26.53), ('ACS', '2022-05-27', 26.6), ('ACS', '2022-05-20', 25.43), ('ACS', '2022-05-13', 24.31), ('ACS', '2022-05-06', 24.22), ('ACS', '2022-04-29', 24.59), ('ACS', '2022-04-22', 24.56), ('ACS', '2022-04-14', 24.91), ('ACS', '2022-04-08', 24.07), ('ACS', '2022-04-01', 24.59), ('ACS', '2022-03-25', 24.62), ('ACS', '2022-03-18', 24.1), ('ACS', '2022-03-11', 23.34), ('ACS', '2022-03-04', 21.27), ('ACS', '2022-02-25', 21.84), ('ACS', '2022-02-18', 22.32), ('ACS', '2022-02-11', 22.6), ('ACS', '2022-02-04', 22.41), ('ACS', '2022-01-28', 22.25), ('ACS', '2022-01-21', 23.11), ('ACS', '2022-01-14', 23.99), ('ACS', '2022-01-07', 23.73), ('ACS', '2021-12-30', 23.57), ('ACS', '2021-12-23', 22.99), ('ACS', '2021-12-17', 21.75), ('ACS', '2021-12-10', 21.44), ('ACS', '2021-12-03', 21.35), ('ACS', '2021-11-26', 21.02), ('ACS', '2021-11-19', 21.73), ('ACS', '2021-11-12', 23.18), ('ACS', '2021-11-05', 23.31), ('ACS', '2021-10-29', 22.63), ('ACS', '2021-10-22', 23.06), ('ACS', '2021-10-15', 22.73)]\n"
     ]
    }
   ],
   "source": [
    "\n",
    "def consulta4(db_filename, ticker):\n",
    "    '''\n",
    "    '''\n",
    "    conn=sqlite3.connect(db_filename)\n",
    "    cur=conn.execute('''SELECT ticker,strftime('%Y-%m-%d', fecha) AS dia, precio\n",
    "                        FROM semanales_IBEX35 \n",
    "                        WHERE ticker=?\n",
    "                        ORDER BY dia DESC\n",
    "                     ''',[ticker])\n",
    "    print(cur.fetchall())\n",
    "consulta4('mercado.sqlite3', 'ACS') "
   ]
  }
 ],
 "metadata": {
  "kernelspec": {
   "display_name": "base",
   "language": "python",
   "name": "python3"
  },
  "language_info": {
   "codemirror_mode": {
    "name": "ipython",
    "version": 3
   },
   "file_extension": ".py",
   "mimetype": "text/x-python",
   "name": "python",
   "nbconvert_exporter": "python",
   "pygments_lexer": "ipython3",
   "version": "3.11.7"
  }
 },
 "nbformat": 4,
 "nbformat_minor": 2
}
