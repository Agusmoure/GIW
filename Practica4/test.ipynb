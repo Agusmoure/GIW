{
 "cells": [
  {
   "cell_type": "code",
   "execution_count": 14,
   "metadata": {},
   "outputs": [],
   "source": [
    "import sqlite3\n",
    "import csv\n",
    "from datetime import datetime\n",
    "def convertir_fecha(fecha):\n",
    "    #Convertimos la fecha a date\n",
    "    aux = datetime.strptime(fecha, '%d/%m/%Y %H:%M')\n",
    "    #Convertimos la fecha al formato yyyy-mm-dd\n",
    "    date = aux.strftime('%Y/%m/%d %H:%M')\n",
    "    return date\n",
    "\n",
    "def crear_bd(db_filename):\n",
    "    conn = sqlite3.connect(db_filename)\n",
    "    conn.execute(\"DROP TABLE IF EXISTS datos_generales\")\n",
    "    conn.execute(\"CREATE TABLE datos_generales (ticket TEXT PRIMARY KEY, nombre TEXT, indice TEXT, pais TEXT)\")\n",
    "    conn.execute(\"DROP TABLE IF EXISTS semanales_IBEX35\")\n",
    "    conn.execute(\"CREATE TABLE semanales_IBEX35 (ticket TEXT, fecha TEXT, precio REAL, FOREIGN KEY (ticket) REFERENCES datos_generales(ticket))\")\n",
    "    conn.commit()\n",
    "    conn.close()\n",
    "\n",
    "crear_bd(\"mercado.sqlite3\")\n",
    "\n",
    "\n",
    "def cargar_bd(db_filename, tab_datos, tab_ibex35):\n",
    "    with open(tab_datos, 'r', newline='', encoding='utf8') as fich:\n",
    "        datos_generales = csv.reader(fich, delimiter=';')\n",
    "        lista_datos_generales = list(datos_generales)\n",
    "    with open(tab_ibex35, 'r', newline='', encoding='utf8') as fich:\n",
    "        datos_ibex = csv.reader(fich, delimiter=';')\n",
    "        lista_datos_ibex = list(datos_ibex)\n",
    "    conn = sqlite3.connect(db_filename)\n",
    "    #Quitamos la cabecera\n",
    "    tabla_generales=lista_datos_generales[1::]\n",
    "    tabla_ibex = lista_datos_ibex[1::]\n",
    "    for fila in tabla_ibex:\n",
    "        fecha_original = fila[1]\n",
    "        new_date = convertir_fecha(fecha_original)\n",
    "        fila[1] = new_date\n",
    "    for fila in tabla_generales:\n",
    "    #Insertamos la fila en la tabla\n",
    "       conn.execute(\"INSERT INTO datos_generales (ticket, nombre, indice, pais) VALUES (?, ?, ?, ?)\", fila)\n",
    "    for fila in tabla_ibex:\n",
    "    #Insertamos la fila en la tabla\n",
    "        conn.execute(\"INSERT INTO semanales_IBEX35 (ticket, fecha, precio) VALUES (?, ?, ?)\", fila)\n",
    "    conn.commit()\n",
    "    conn.close()\n",
    "\n",
    "\n",
    "\n",
    "\n",
    "cargar_bd(\"mercado.sqlite3\", \"Tabla1.csv\", \"Tabla2.csv\")"
   ]
  }
 ],
 "metadata": {
  "kernelspec": {
   "display_name": "base",
   "language": "python",
   "name": "python3"
  },
  "language_info": {
   "codemirror_mode": {
    "name": "ipython",
    "version": 3
   },
   "file_extension": ".py",
   "mimetype": "text/x-python",
   "name": "python",
   "nbconvert_exporter": "python",
   "pygments_lexer": "ipython3",
   "version": "3.11.7"
  }
 },
 "nbformat": 4,
 "nbformat_minor": 2
}
